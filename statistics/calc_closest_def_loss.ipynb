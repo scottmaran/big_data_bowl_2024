{
 "cells": [
  {
   "cell_type": "code",
   "execution_count": 1,
   "metadata": {},
   "outputs": [],
   "source": [
    "import pandas as pd\n",
    "import numpy as np\n",
    "import math\n",
    "import json\n",
    "import time\n",
    "import pickle\n",
    "import sys\n",
    "\n",
    "import torch\n",
    "import torch.optim as optim\n",
    "import torch.nn as nn\n",
    "import torch.nn.functional as F\n",
    "\n"
   ]
  },
  {
   "cell_type": "code",
   "execution_count": 2,
   "metadata": {},
   "outputs": [],
   "source": [
    "sys.path.append('../')"
   ]
  },
  {
   "cell_type": "code",
   "execution_count": 3,
   "metadata": {},
   "outputs": [
    {
     "data": {
      "text/plain": [
       "<torch._C.Generator at 0x1315685b0>"
      ]
     },
     "execution_count": 3,
     "metadata": {},
     "output_type": "execute_result"
    }
   ],
   "source": [
    "torch.manual_seed(1)"
   ]
  },
  {
   "cell_type": "code",
   "execution_count": 4,
   "metadata": {},
   "outputs": [],
   "source": [
    "\n",
    "from dataset import SeqDataset"
   ]
  },
  {
   "cell_type": "code",
   "execution_count": 5,
   "metadata": {},
   "outputs": [
    {
     "name": "stdout",
     "output_type": "stream",
     "text": [
      "Using device = mps\n"
     ]
    }
   ],
   "source": [
    "DATA_DIR = \"seq_filtered_sorted_data\"\n",
    "\n",
    "if torch.backends.mps.is_available():\n",
    "    DEVICE = torch.device(\"mps\")\n",
    "else:\n",
    "    DEVICE = torch.device('cpu')\n",
    "print(f\"Using device = {DEVICE}\")\n",
    "\n",
    "TRAIN_SPLIT = 0.6"
   ]
  },
  {
   "cell_type": "code",
   "execution_count": 6,
   "metadata": {},
   "outputs": [],
   "source": [
    "with open(f'../cleaned_data/{DATA_DIR}/game_play_id.json') as f:\n",
    "        list_IDS = json.load(f)\n",
    "# break ids into train-val-test sets\n",
    "val_percent = int(len(list_IDS)* (TRAIN_SPLIT+((1-TRAIN_SPLIT)/2)) )\n",
    "train_IDS, val_IDS, test_IDS = np.split(list_IDS, [ int(len(list_IDS)*TRAIN_SPLIT), val_percent ])\n",
    "\n",
    "# params = {'batch_size': 256,\n",
    "#         'shuffle': True,\n",
    "#         'num_workers': 1}\n",
    "\n",
    "# # Generators\n",
    "# training_set = SeqDataset(train_IDS, data_dir=DATA_DIR)\n",
    "# training_generator = torch.utils.data.DataLoader(training_set, **params)\n",
    "\n",
    "val_params = {'batch_size': 2,\n",
    "        'shuffle': True,\n",
    "        'num_workers': 1}\n",
    "validation_set = SeqDataset(val_IDS, data_dir=DATA_DIR)\n",
    "validation_generator = torch.utils.data.DataLoader(validation_set, **val_params)"
   ]
  },
  {
   "cell_type": "code",
   "execution_count": 7,
   "metadata": {},
   "outputs": [],
   "source": [
    "# seq : shape (seq_length, 24, 9)\n",
    "def get_closest_defender(seq):\n",
    "    ball_and_opps = seq[:,0:12, 3:5]\n",
    "    print(f\"ball_and_opps shape = {ball_and_opps.shape}\")\n",
    "    dists = torch.cdist(ball_and_opps[:,0:1,:], ball_and_opps, p=2.0)\n",
    "    print(f\"did th edist\")\n",
    "    dists[:,0,0] = torch.inf \n",
    "    print(f'did the inf')\n",
    "    closest_defender = dists.argmin(dim=2).squeeze(-1)\n",
    "    return closest_defender"
   ]
  },
  {
   "cell_type": "code",
   "execution_count": 8,
   "metadata": {},
   "outputs": [],
   "source": [
    "def process_batch(device, batch, labels, lengths, player_ids):\n",
    "\n",
    "    local_batch = batch.to(device)\n",
    "    index_labels = torch.argmax(labels, -1).to(device) # (batch_size)\n",
    "    local_lengths = lengths.to(device)    # [batch_size, 23, embed_dim]\n",
    "\n",
    "\n",
    "    batch_seq_loss = 0  # avg avg seq loss (e.g, on expected sequence, average loss)\n",
    "    val_metrics_dict = {\"quarter_output_pred\":0,\n",
    "                   \"halfway_output_pred\":0,\n",
    "                   \"three_quarter_output_pred\":0,\n",
    "                   \"final_output_pred\":0,\n",
    "                   \"correct_tackler_identified_w_highest_prob_anytime\":0,\n",
    "                   \"correct_tackler_had_highest_average_prob\":0,\n",
    "                   \"correct_tackler_average_prob\":0}\n",
    "    \n",
    "    # for each full sequence\n",
    "    for i in range(0, local_batch.shape[0]):\n",
    "\n",
    "        single_target = index_labels[i, local_lengths[i]-1].to(device)                                 # ([]), the correct class\n",
    "        batch = local_batch[i, :local_lengths[i]-1, :].reshape(-1,24,9).to(device)    # (seq_length, 24, 9)\n",
    "        print(f\"batch shape = {batch.shape}\")\n",
    "        closest_def = get_closest_defender(batch).to(device)\n",
    "\n",
    "        print(f\"closest_def shape = {closest_def.shape}\")\n",
    "    \n",
    "        correct_classify = (closest_def[:local_lengths[0]] == single_target).float()\n",
    "\n",
    "        print(f\"correct_classify shape = {correct_classify.shape}\")\n",
    "\n",
    "        batch_seq_loss += F.nll_loss(torch.log(closest_def), index_labels[i, :local_lengths[i]-1], reduction='mean')\n",
    "\n",
    "        # shape ([]), 1 or 0 if classified correctly at that point in time\n",
    "        val_metrics_dict['quarter_output_pred'] += correct_classify[batch.shape[0]//4].item()\n",
    "        val_metrics_dict['halfway_output_pred'] += correct_classify[batch.shape[0]//2].item()\n",
    "        val_metrics_dict['three_quarter_output_pred'] += correct_classify[(batch.shape[0]//4)*3].item()\n",
    "        val_metrics_dict['final_output_pred'] += correct_classify[-1].item()\n",
    "\n",
    "    return batch_seq_loss, val_metrics_dict\n",
    "    "
   ]
  },
  {
   "cell_type": "code",
   "execution_count": 9,
   "metadata": {},
   "outputs": [
    {
     "name": "stdout",
     "output_type": "stream",
     "text": [
      "Starting training...\n"
     ]
    },
    {
     "name": "stdout",
     "output_type": "stream",
     "text": [
      "num val batches = 994\n"
     ]
    },
    {
     "ename": "",
     "evalue": "",
     "output_type": "error",
     "traceback": [
      "\u001b[1;31mThe Kernel crashed while executing code in the the current cell or a previous cell. Please review the code in the cell(s) to identify a possible cause of the failure. Click <a href='https://aka.ms/vscodeJupyterKernelCrash'>here</a> for more info. View Jupyter <a href='command:jupyter.viewOutput'>log</a> for further details."
     ]
    }
   ],
   "source": [
    "print(f\"Starting training...\")\n",
    "\n",
    "total_start_time = time.time()\n",
    "\n",
    "avg_val_loss = 0\n",
    "val_loss_hist = []\n",
    "val_metrics_dict = {\"quarter_output_pred\":0,\n",
    "                \"halfway_output_pred\":0,\n",
    "                \"three_quarter_output_pred\":0,\n",
    "                \"final_output_pred\":0,\n",
    "                \"correct_tackler_identified_w_highest_prob_anytime\":0,\n",
    "                \"correct_tackler_had_highest_average_prob\":0,\n",
    "                \"correct_tackler_average_prob\":0}\n",
    "\n",
    "gen = iter(validation_generator)\n",
    "num_val_batches = len(gen)\n",
    "\n",
    "print(f\"num val batches = {num_val_batches}\")\n",
    "\n",
    "for batch_index, (local_batch, local_labels, local_lengths, local_player_ids, local_ids) in enumerate(validation_generator):\n",
    "\n",
    "    print(f\"afetr gen\")\n",
    "    # val_metrics[0] = val loss\n",
    "    batch_seq_loss, val_batch_metrics_dict = process_batch(DEVICE, local_batch, local_labels, local_lengths, local_player_ids)\n",
    "    print(f\"Por\")\n",
    "    val_loss_hist.append(batch_seq_loss.item())\n",
    "\n",
    "    avg_val_loss += batch_seq_loss.item()\n",
    "    val_metrics_dict['quarter_output_pred'] += val_batch_metrics_dict['quarter_output_pred']\n",
    "    val_metrics_dict['halfway_output_pred'] += val_batch_metrics_dict['halfway_output_pred']\n",
    "    val_metrics_dict['three_quarter_output_pred'] += val_batch_metrics_dict['three_quarter_output_pred']\n",
    "    val_metrics_dict['final_output_pred'] += val_batch_metrics_dict['final_output_pred']\n",
    "    val_metrics_dict['correct_tackler_identified_w_highest_prob_anytime'] += val_batch_metrics_dict['correct_tackler_identified_w_highest_prob_anytime']\n",
    "    val_metrics_dict['correct_tackler_had_highest_average_prob'] += val_batch_metrics_dict['correct_tackler_had_highest_average_prob']\n",
    "    val_metrics_dict['correct_tackler_average_prob'] += val_batch_metrics_dict['correct_tackler_average_prob']\n",
    "\n",
    "avg_val_loss /= (num_val_batches*validation_generator.batch_size)\n",
    "val_metrics_dict['quarter_output_pred'] /= (num_val_batches*validation_generator.batch_size)\n",
    "val_metrics_dict['halfway_output_pred'] /= (num_val_batches*validation_generator.batch_size)\n",
    "val_metrics_dict['three_quarter_output_pred'] /= (num_val_batches*validation_generator.batch_size)\n",
    "val_metrics_dict['final_output_pred'] /= (num_val_batches*validation_generator.batch_size)\n",
    "val_metrics_dict['correct_tackler_identified_w_highest_prob_anytime'] /= (num_val_batches*validation_generator.batch_size)\n",
    "val_metrics_dict['correct_tackler_had_highest_average_prob'] /= (num_val_batches*validation_generator.batch_size)\n",
    "val_metrics_dict['correct_tackler_average_prob'] /= (num_val_batches*validation_generator.batch_size)\n",
    "\n",
    "\n",
    "print(f\"val_loss={avg_val_loss}\")\n",
    "print(f\"val metrics dict = \")\n",
    "print(f\"{list(val_metrics_dict.keys())}\")\n",
    "print(f\"{np.array(list(val_metrics_dict.values())).round(3)}\")\n",
    "print(f\"#######################\")\n",
    "    \n",
    "total_end_time = time.time()\n",
    "print(f\"Finished training 1 epochs in {round((total_end_time - total_start_time)/60, 3)} min\")"
   ]
  },
  {
   "cell_type": "code",
   "execution_count": null,
   "metadata": {},
   "outputs": [],
   "source": []
  },
  {
   "cell_type": "code",
   "execution_count": null,
   "metadata": {},
   "outputs": [],
   "source": []
  },
  {
   "cell_type": "code",
   "execution_count": 14,
   "metadata": {},
   "outputs": [],
   "source": [
    "local_batch, local_labels, local_lengths, local_player_ids, local_ids = next(iter(validation_generator))\n",
    "index_labels = torch.argmax(local_labels, -1)\n",
    "i = 0"
   ]
  },
  {
   "cell_type": "code",
   "execution_count": 15,
   "metadata": {},
   "outputs": [],
   "source": [
    "single_target = index_labels[i, local_lengths[i]-1]                                 # ([]), the correct class\n",
    "batch = local_batch[i, :local_lengths[i]-1, :].reshape(-1,24,9)    # (seq_length, 24, 9)\n"
   ]
  },
  {
   "cell_type": "code",
   "execution_count": 26,
   "metadata": {},
   "outputs": [],
   "source": [
    "ball_and_opps = batch[:,0:12, 3:5]\n",
    "dists = torch.cdist(ball_and_opps[:,0:1,:], ball_and_opps, p=2.0)\n",
    "dists[:,0,0] = torch.inf \n",
    "closest_defender = dists.argmin(dim=2).squeeze(-1)"
   ]
  },
  {
   "cell_type": "code",
   "execution_count": 31,
   "metadata": {},
   "outputs": [
    {
     "data": {
      "text/plain": [
       "torch.Size([22])"
      ]
     },
     "execution_count": 31,
     "metadata": {},
     "output_type": "execute_result"
    }
   ],
   "source": [
    "dists.argmin(dim=2).squeeze(-1).shape"
   ]
  },
  {
   "cell_type": "code",
   "execution_count": null,
   "metadata": {},
   "outputs": [],
   "source": []
  },
  {
   "cell_type": "code",
   "execution_count": 18,
   "metadata": {},
   "outputs": [
    {
     "data": {
      "text/plain": [
       "tensor([0, 0, 0, 0, 0, 0, 0, 0, 0, 0, 0, 0])"
      ]
     },
     "execution_count": 18,
     "metadata": {},
     "output_type": "execute_result"
    }
   ],
   "source": [
    "closest_def[0]"
   ]
  },
  {
   "cell_type": "code",
   "execution_count": null,
   "metadata": {},
   "outputs": [],
   "source": [
    "ball_and_opps = seq[:,0:12, 3:5]\n",
    "dists = torch.cdist(ball_and_opps[:,0:1,:], ball_and_opps, p=2.0)    # (seq_length, 12, 12)\n",
    "dists[:,0,0] = torch.inf                                      # set distance from ball to ball to inf\n",
    "closest_defender = dists.argmin(dim=1)               # (seq_length)"
   ]
  },
  {
   "cell_type": "code",
   "execution_count": null,
   "metadata": {},
   "outputs": [],
   "source": []
  },
  {
   "cell_type": "code",
   "execution_count": null,
   "metadata": {},
   "outputs": [],
   "source": []
  },
  {
   "cell_type": "code",
   "execution_count": 9,
   "metadata": {},
   "outputs": [],
   "source": [
    "local_batch, local_labels, local_lengths, local_player_ids, local_ids = next(iter(validation_generator))"
   ]
  },
  {
   "cell_type": "code",
   "execution_count": 10,
   "metadata": {},
   "outputs": [],
   "source": [
    "index_labels = torch.argmax(local_labels, -1)\n",
    "single_target = index_labels[0, local_lengths[0]-1]"
   ]
  },
  {
   "cell_type": "code",
   "execution_count": 11,
   "metadata": {},
   "outputs": [
    {
     "data": {
      "text/plain": [
       "tensor(10)"
      ]
     },
     "execution_count": 11,
     "metadata": {},
     "output_type": "execute_result"
    }
   ],
   "source": [
    "single_target"
   ]
  },
  {
   "cell_type": "code",
   "execution_count": 19,
   "metadata": {},
   "outputs": [],
   "source": [
    "# ball and oponents\n",
    "ball_and_opps = local_batch[0].reshape(-1,24,9)[:local_lengths[0],0:12, 3:5]"
   ]
  },
  {
   "cell_type": "code",
   "execution_count": 20,
   "metadata": {},
   "outputs": [
    {
     "data": {
      "text/plain": [
       "torch.Size([29, 12, 2])"
      ]
     },
     "execution_count": 20,
     "metadata": {},
     "output_type": "execute_result"
    }
   ],
   "source": [
    "ball_and_opps.shape"
   ]
  },
  {
   "cell_type": "code",
   "execution_count": 37,
   "metadata": {},
   "outputs": [],
   "source": [
    "dists = torch.cdist(ball_and_opps[:,0:1,:], ball_and_opps, p=2.0)\n",
    "dists[:,0,0] = torch.inf  # set distance from ball to ball to inf"
   ]
  },
  {
   "cell_type": "code",
   "execution_count": 41,
   "metadata": {},
   "outputs": [
    {
     "data": {
      "text/plain": [
       "tensor([[    inf,  9.0762, 13.6751,  8.2470,  8.9987,  6.9035, 10.9977, 21.8351,\n",
       "         29.8741, 22.1047, 14.6777,  8.5594]])"
      ]
     },
     "execution_count": 41,
     "metadata": {},
     "output_type": "execute_result"
    }
   ],
   "source": [
    "dists[0]"
   ]
  },
  {
   "cell_type": "code",
   "execution_count": 44,
   "metadata": {},
   "outputs": [
    {
     "data": {
      "text/plain": [
       "tensor([ 5,  5,  5,  5,  5, 10, 10, 10, 10, 10,  5,  5,  5,  5,  5,  5, 10, 10,\n",
       "        10, 10, 10, 10, 10, 10, 10, 10, 10,  5,  5])"
      ]
     },
     "execution_count": 44,
     "metadata": {},
     "output_type": "execute_result"
    }
   ],
   "source": [
    "dists[:,0,:].argmin(dim=1)"
   ]
  },
  {
   "cell_type": "code",
   "execution_count": 51,
   "metadata": {},
   "outputs": [],
   "source": [
    "closest_def = dists[:,0,:].argmin(dim=1)"
   ]
  },
  {
   "cell_type": "code",
   "execution_count": 52,
   "metadata": {},
   "outputs": [
    {
     "ename": "NameError",
     "evalue": "name 'single_target' is not defined",
     "output_type": "error",
     "traceback": [
      "\u001b[0;31m---------------------------------------------------------------------------\u001b[0m",
      "\u001b[0;31mNameError\u001b[0m                                 Traceback (most recent call last)",
      "\u001b[1;32m/Users/scottmaran/Code/Python/bdb_2024/statistics/calc_loss.ipynb Cell 17\u001b[0m line \u001b[0;36m1\n\u001b[0;32m----> <a href='vscode-notebook-cell:/Users/scottmaran/Code/Python/bdb_2024/statistics/calc_loss.ipynb#X34sZmlsZQ%3D%3D?line=0'>1</a>\u001b[0m single_target\n",
      "\u001b[0;31mNameError\u001b[0m: name 'single_target' is not defined"
     ]
    }
   ],
   "source": [
    "single_target"
   ]
  },
  {
   "cell_type": "code",
   "execution_count": 35,
   "metadata": {},
   "outputs": [],
   "source": [
    "dists = torch.cdist(ball_and_opps, ball_and_opps, p=2.0)\n",
    "dists[:,0,0] = torch.inf  # set distance from ball to ball to inf\n",
    "closest_defender = dists[0].argmin()"
   ]
  },
  {
   "cell_type": "code",
   "execution_count": 36,
   "metadata": {},
   "outputs": [],
   "source": [
    "dists[0,0] = torch.inf"
   ]
  },
  {
   "cell_type": "code",
   "execution_count": 38,
   "metadata": {},
   "outputs": [
    {
     "data": {
      "text/plain": [
       "tensor(11)"
      ]
     },
     "execution_count": 38,
     "metadata": {},
     "output_type": "execute_result"
    }
   ],
   "source": [
    "dists[0].argmin()"
   ]
  },
  {
   "cell_type": "code",
   "execution_count": null,
   "metadata": {},
   "outputs": [],
   "source": []
  },
  {
   "cell_type": "code",
   "execution_count": null,
   "metadata": {},
   "outputs": [],
   "source": []
  },
  {
   "cell_type": "code",
   "execution_count": null,
   "metadata": {},
   "outputs": [],
   "source": []
  },
  {
   "cell_type": "code",
   "execution_count": null,
   "metadata": {},
   "outputs": [],
   "source": []
  }
 ],
 "metadata": {
  "kernelspec": {
   "display_name": "bdb_2024",
   "language": "python",
   "name": "python3"
  },
  "language_info": {
   "codemirror_mode": {
    "name": "ipython",
    "version": 3
   },
   "file_extension": ".py",
   "mimetype": "text/x-python",
   "name": "python",
   "nbconvert_exporter": "python",
   "pygments_lexer": "ipython3",
   "version": "3.8.18"
  }
 },
 "nbformat": 4,
 "nbformat_minor": 2
}
