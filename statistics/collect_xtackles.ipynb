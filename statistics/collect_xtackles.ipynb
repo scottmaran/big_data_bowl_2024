{
 "cells": [
  {
   "cell_type": "code",
   "execution_count": 1,
   "metadata": {},
   "outputs": [],
   "source": [
    "import pandas as pd\n",
    "import numpy as np\n",
    "import sys\n",
    "import os\n",
    "import json\n",
    "import time\n",
    "import pickle\n",
    "\n",
    "import torch\n",
    "\n",
    "torch.manual_seed(1)\n",
    "sys.path.append('../')\n",
    "\n",
    "from dataset import SeqContextDataset, SingleFrameContextDataset\n",
    "from utils import return_pos_embeddings, return_pos_df\n",
    "\n",
    "from models import trans_single_frame_12_27\n"
   ]
  },
  {
   "cell_type": "code",
   "execution_count": 2,
   "metadata": {},
   "outputs": [],
   "source": [
    "''' \n",
    "Process batch of sequence dataset\n",
    "'''\n",
    "def process_batch(stats_dict, model, device, batch, labels, context, lengths, player_ids, norm_list:list=[]):\n",
    "    model = model.to(device)\n",
    "    local_batch = batch.to(device)\n",
    "    index_labels = torch.argmax(labels, -1).to(device) # (batch_size)\n",
    "    local_lengths = lengths.to(device)\n",
    "    local_context = context.to(torch.float32).to(device)\n",
    "\n",
    "    # for each full sequence\n",
    "    for i in range(0, local_batch.shape[0]):\n",
    "\n",
    "        # load in position embeddings, set up dimensions\n",
    "        single_target = index_labels[i, local_lengths[i]-1].to(device)                                 # ([]), the correct class\n",
    "        batch = local_batch[i, :local_lengths[i]-1, :].reshape(-1,23,11).to(device)    # (seq_length, 23,11)\n",
    "        context = local_context[i,:local_lengths[i]-1,:].to(device)\n",
    "        pos_embeddings = return_pos_embeddings(model.pos_df, player_ids[i:i+1])         \n",
    "        pos_embeddings = pos_embeddings.repeat(local_lengths[i]-1,1,1).to(device)       # (seq_length, 23,11)\n",
    "\n",
    "        # normalize batch\n",
    "        if len(norm_list) != 0:\n",
    "            training_mean, _, normalization_mask, min_max_diff = norm_list\n",
    "            training_mean = training_mean.to(device)\n",
    "            normalization_mask = normalization_mask.to(device)\n",
    "            min_max_diff = min_max_diff.to(device)\n",
    "\n",
    "            batch = batch.reshape(-1,23*11)\n",
    "            batch[:,normalization_mask] = (batch[:,normalization_mask] - training_mean[normalization_mask].reshape(1,-1))/torch.where(min_max_diff[:,normalization_mask]==0,1,min_max_diff[:,normalization_mask])\n",
    "            batch = batch.reshape(-1,23,11)\n",
    "\n",
    "        # get model outputs\n",
    "        with torch.no_grad():\n",
    "            output = model(batch, pos_embeddings, context).to(device)   # (seq_length, 23)\n",
    "\n",
    "        output = torch.exp(output)  # convert logits to probabilities\n",
    "\n",
    "        max_tackle_probs_over_seq = output.max(dim=0)[0]    # (23)\n",
    "        avg_tackle_probs_over_seq = output.mean(dim=0)      # (23)\n",
    "        true_tackler = labels[i, 0]                         # (23)\n",
    "        delta_x = (torch.roll(output,shifts=1,dims=0) - output)[1:,:].sum(dim=0)    # (23)\n",
    "\n",
    "        # print(f\"output shape  = {output.shape}\")\n",
    "        # print(f\"labels shape = {labels.shape} \")\n",
    "        # print(f\"max_tackle_probs_over_seq = {max_tackle_probs_over_seq.shape}\")\n",
    "        # print(f\"avg_tackle_probs_over_seq = {avg_tackle_probs_over_seq.shape}\")\n",
    "        # print(f\"true_tackler = {true_tackler.shape}\")\n",
    "\n",
    "        #each_players_dict = [{\"max_xT\":max_tackle_probs_over_seq[k].item(), \"xT\":avg_tackle_probs_over_seq[k].item(), \"T\":true_tackler[k].item()} for k in range(len(player_ids))]   # list of len 23 with size 3 dict\n",
    "        \n",
    "        player_stats = torch.zeros((23, 4))\n",
    "        player_stats[:,0] = max_tackle_probs_over_seq\n",
    "        player_stats[:,1] = avg_tackle_probs_over_seq\n",
    "        player_stats[:,2] = true_tackler\n",
    "        player_stats[:,3] = delta_x\n",
    "\n",
    "        for index, player_id in enumerate(player_ids[i:i+1].squeeze()):\n",
    "            stats_dict[player_id.item()] = stats_dict.get(player_id.item(), torch.zeros(player_stats.shape[1])) + player_stats[index]\n",
    "        "
   ]
  },
  {
   "cell_type": "code",
   "execution_count": 3,
   "metadata": {},
   "outputs": [
    {
     "name": "stdout",
     "output_type": "stream",
     "text": [
      "Using device = cpu\n"
     ]
    }
   ],
   "source": [
    "if torch.backends.mps.is_available():\n",
    "    DEVICE = torch.device(\"mps\")\n",
    "else:\n",
    "    DEVICE = torch.device('cpu')\n",
    "DEVICE = torch.device('cpu')\n",
    "print(f\"Using device = {DEVICE}\")\n",
    "DATA_DIR = \"seq_clipped_sorted_data\"\n",
    "MODEL_DIR = f\"trans_single_frame_12_27_hw\"\n",
    "\n",
    "NORM=True"
   ]
  },
  {
   "cell_type": "code",
   "execution_count": 4,
   "metadata": {},
   "outputs": [],
   "source": [
    "with open(f'../cleaned_data/{DATA_DIR}/game_play_id.json') as f:\n",
    "    list_IDS = json.load(f)\n",
    "\n",
    "# load in dataloaders - should work on sequences instead of single frames\n",
    "gen_params = {'batch_size': 4,\n",
    "        'shuffle': True,\n",
    "        'num_workers': 0}\n",
    "dataset = SeqContextDataset(np.sort(list_IDS), data_dir=DATA_DIR)\n",
    "data_loader = torch.utils.data.DataLoader(dataset, **gen_params)\n",
    "\n",
    "# load in positional embeddings dataframe\n",
    "new_embeddings = return_pos_df()\n",
    "\n",
    "# load in model\n",
    "model = trans_single_frame_12_27(pos_df=new_embeddings, feature_embed_size=128, dropout=0.2, num_encoder_layers=4, num_att_heads=32)\n",
    "model.load_state_dict(torch.load(f\"../saved_models/{MODEL_DIR}/weights/trans_all_players.pt\"))\n",
    "model.eval()\n",
    "if NORM:\n",
    "    with open(f\"../saved_models/{MODEL_DIR}/weights/norm_list.pickle\", 'rb') as fp:\n",
    "        norm_list = pickle.load(fp)\n",
    "else:\n",
    "    norm_list = []"
   ]
  },
  {
   "cell_type": "code",
   "execution_count": null,
   "metadata": {},
   "outputs": [],
   "source": []
  },
  {
   "cell_type": "code",
   "execution_count": 5,
   "metadata": {},
   "outputs": [
    {
     "name": "stdout",
     "output_type": "stream",
     "text": [
      "finished batch 0 of 2482 in 0.003 min\n",
      "finished batch 500 of 2482 in 1.388 min\n",
      "finished batch 1000 of 2482 in 2.742 min\n",
      "Finished all seq. in 3.418 min\n"
     ]
    }
   ],
   "source": [
    "# create stats dict : dict = {nflId : dict{cum. xTackles, cum. Tackles} }\n",
    "stats_dict = dict()\n",
    "\n",
    "total_start_time = time.time()\n",
    "data_generator = iter(data_loader)\n",
    "for batch_index in range(len(data_generator)//2):\n",
    "\n",
    "    if batch_index == 1309:\n",
    "        print(f\"at batch_index 1309\")\n",
    "\n",
    "    with torch.no_grad():\n",
    "        local_batch, local_labels, local_context, local_lengths, local_player_ids, local_ids = next(data_generator)\n",
    "        process_batch(stats_dict, model, DEVICE, local_batch, local_labels, local_context, local_lengths, local_player_ids, norm_list)\n",
    "    if batch_index % 500 == 0:\n",
    "        print(f\"finished batch {batch_index} of {len(data_generator)} in {round((time.time() - total_start_time)/60, 3)} min\")\n",
    "\n",
    "total_end_time = time.time()\n",
    "print(f\"Finished all seq. in {round((total_end_time - total_start_time)/60, 3)} min\")\n",
    "\n",
    "# save expected tackles per player\n",
    "expected_tackle_df = pd.DataFrame(stats_dict).T"
   ]
  },
  {
   "cell_type": "code",
   "execution_count": 6,
   "metadata": {},
   "outputs": [
    {
     "name": "stdout",
     "output_type": "stream",
     "text": [
      "at batch_index 1309\n",
      "finished batch 1500 of 2482 in 0.714 min\n",
      "finished batch 2000 of 2482 in 2.099 min\n",
      "Finished all seq. in 3.424 min\n"
     ]
    }
   ],
   "source": [
    "stats_dict_2nd_half = dict()\n",
    "\n",
    "total_start_time = time.time()\n",
    "#data_generator = iter(data_loader)\n",
    "for batch_index in range(len(data_generator)//2, len(data_generator)):\n",
    "\n",
    "    if batch_index == 1309:\n",
    "        print(f\"at batch_index 1309\")\n",
    "\n",
    "    with torch.no_grad():\n",
    "        local_batch, local_labels, local_context, local_lengths, local_player_ids, local_ids = next(data_generator)\n",
    "        process_batch(stats_dict_2nd_half, model, DEVICE, local_batch, local_labels, local_context, local_lengths, local_player_ids, norm_list)\n",
    "    if batch_index % 500 == 0:\n",
    "        print(f\"finished batch {batch_index} of {len(data_generator)} in {round((time.time() - total_start_time)/60, 3)} min\")\n",
    "\n",
    "total_end_time = time.time()\n",
    "print(f\"Finished all seq. in {round((total_end_time - total_start_time)/60, 3)} min\")\n",
    "\n",
    "# save expected tackles per player\n",
    "expected_tackle_df_2nd_half = pd.DataFrame(stats_dict_2nd_half).T"
   ]
  },
  {
   "cell_type": "code",
   "execution_count": null,
   "metadata": {},
   "outputs": [],
   "source": []
  },
  {
   "cell_type": "code",
   "execution_count": null,
   "metadata": {},
   "outputs": [],
   "source": []
  }
 ],
 "metadata": {
  "kernelspec": {
   "display_name": "bdb_2024",
   "language": "python",
   "name": "python3"
  },
  "language_info": {
   "codemirror_mode": {
    "name": "ipython",
    "version": 3
   },
   "file_extension": ".py",
   "mimetype": "text/x-python",
   "name": "python",
   "nbconvert_exporter": "python",
   "pygments_lexer": "ipython3",
   "version": "3.8.18"
  }
 },
 "nbformat": 4,
 "nbformat_minor": 2
}
