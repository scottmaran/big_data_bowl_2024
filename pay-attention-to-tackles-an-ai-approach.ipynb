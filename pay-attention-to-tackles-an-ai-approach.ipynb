{
 "cells": [
  {
   "cell_type": "markdown",
   "id": "c1526489",
   "metadata": {
    "papermill": {
     "duration": 0.009624,
     "end_time": "2024-01-07T07:42:31.797378",
     "exception": false,
     "start_time": "2024-01-07T07:42:31.787754",
     "status": "completed"
    },
    "tags": []
   },
   "source": [
    "# Introduction"
   ]
  },
  {
   "cell_type": "code",
   "execution_count": 1,
   "id": "2f11623d",
   "metadata": {
    "_kg_hide-input": true,
    "execution": {
     "iopub.execute_input": "2024-01-07T07:42:31.819236Z",
     "iopub.status.busy": "2024-01-07T07:42:31.817379Z",
     "iopub.status.idle": "2024-01-07T07:43:16.137145Z",
     "shell.execute_reply": "2024-01-07T07:43:16.135551Z"
    },
    "papermill": {
     "duration": 44.334448,
     "end_time": "2024-01-07T07:43:16.140616",
     "exception": false,
     "start_time": "2024-01-07T07:42:31.806168",
     "status": "completed"
    },
    "tags": []
   },
   "outputs": [],
   "source": [
    "suppressMessages(suppressWarnings(install.packages(\"reactablefmtr\")))\n",
    "suppressMessages(suppressWarnings(install.packages(\"nflfastR\")))\n",
    "suppressMessages(suppressWarnings(install.packages(\"nflplotR\")))\n",
    "\n",
    "suppressMessages(suppressWarnings(library(tidyverse)))\n",
    "suppressMessages(suppressWarnings(library(nflfastR)))\n",
    "suppressMessages(suppressWarnings(library(reactable)))\n",
    "suppressMessages(suppressWarnings(library(reactablefmtr)))\n",
    "suppressMessages(suppressWarnings(library(viridis)))\n",
    "suppressMessages(suppressWarnings(library(scales)))\n",
    "suppressMessages(suppressWarnings(library(htmlwidgets)))\n",
    "suppressMessages(suppressWarnings(library(IRdisplay)))\n",
    "suppressMessages(suppressWarnings(library(gt)))\n",
    "\n",
    "library(dplyr)\n",
    "library(ggplot2)\n",
    "library(tidyr)\n",
    "\n",
    "dir.create(file.path(\"plots/\"), showWarnings = FALSE)\n",
    "\n",
    "rankings <- read.csv(\"../input/xt-rankings/player_rankings.csv\", row.names=1) "
   ]
  },
  {
   "cell_type": "markdown",
   "id": "45ed4a2c",
   "metadata": {
    "id": "V7H1uXld-E-Y",
    "papermill": {
     "duration": 0.008671,
     "end_time": "2024-01-07T07:43:16.158506",
     "exception": false,
     "start_time": "2024-01-07T07:43:16.149835",
     "status": "completed"
    },
    "tags": []
   },
   "source": [
    "Despite its involvement in almost every snap, judging a player's talent to make tackles still remains much more an art than a science. This begs the question - how should we measure a player's tackling ability?"
   ]
  },
  {
   "cell_type": "markdown",
   "id": "b7d716bb",
   "metadata": {
    "id": "HWQ8U8H4-E-Z",
    "papermill": {
     "duration": 0.009288,
     "end_time": "2024-01-07T07:43:16.176466",
     "exception": false,
     "start_time": "2024-01-07T07:43:16.167178",
     "status": "completed"
    },
    "tags": []
   },
   "source": [
    "## Current Metrics"
   ]
  },
  {
   "cell_type": "markdown",
   "id": "04069d82",
   "metadata": {
    "papermill": {
     "duration": 0.008816,
     "end_time": "2024-01-07T07:43:16.195289",
     "exception": false,
     "start_time": "2024-01-07T07:43:16.186473",
     "status": "completed"
    },
    "tags": []
   },
   "source": [
    "A common approach is to simply count the number of tackles a player gets in a season. But there's an obvious issue with this:\n",
    "\n",
    "**Cumulative tackles do not account for how often a player is put in a position to make a tackle.**\n",
    "\n",
    "If player A has 100 tackles but was targeted 150 times, and player B only has 20 yet was only targeted 20 times, who would we say is the better tackler? This gives us Missed Tackles Percentage (MIS%) - simply taking the ratio of successful tackles to total tackle attempts. \n",
    "\n",
    "But this leads to the natural next question - how do we define a tackle attempt (and subsequent tackle failure)? The extreme cases are obvious, like if a player wraps himself around the ball carrier and slides off unabated.\n",
    "\n",
    "But what about the non-extreme cases? Imagine we have a wide receiver who catches the ball in the middle of the field with a lone safety between him and the endzone. Since the safety is the only player in the ball carrier's path, this is clearly a great tackling opportunity, right? Or should it depend on how much space is available to the receiver? Or if he caught the ball in stride?\n",
    "\n",
    "**Missed Tackles Percentage does not differentiate failed tackles by the quality of the opportunity.**\n",
    "\n",
    "It treats tackles opportunities as a binary process (1: opportunity, 0: no opportunity). A lot of nuance in player tackling ability is lost in this discretization.\n",
    "\n"
   ]
  },
  {
   "cell_type": "markdown",
   "id": "6f26e123",
   "metadata": {
    "id": "1z9lOx6y-E-a",
    "papermill": {
     "duration": 0.008921,
     "end_time": "2024-01-07T07:43:16.212827",
     "exception": false,
     "start_time": "2024-01-07T07:43:16.203906",
     "status": "completed"
    },
    "tags": []
   },
   "source": [
    "# Tackles over Expected (ToE)"
   ]
  },
  {
   "cell_type": "markdown",
   "id": "6d46150f",
   "metadata": {
    "papermill": {
     "duration": 0.008766,
     "end_time": "2024-01-07T07:43:16.230484",
     "exception": false,
     "start_time": "2024-01-07T07:43:16.221718",
     "status": "completed"
    },
    "tags": []
   },
   "source": [
    "Cumulative tackles and missed tackles are flawed because they do not account for the context of the situation surrounding the tackle. So what's the alternative?\n",
    "\n",
    "Similar to how we now use expected points and expected completion percentage, we can better measure tackling ability using Tackles over Expected, defined as **the difference between the tackles a given player makes and the average number of tackles a player would make in the same states of the plays** (factoring in variables such as location, speed, position). This would then tell us how well a player compares to his peers at tackling adjusted for their surrounding circumstances.\n"
   ]
  },
  {
   "cell_type": "markdown",
   "id": "90991e4f",
   "metadata": {
    "id": "9BuSMTzy-E-a",
    "papermill": {
     "duration": 0.008907,
     "end_time": "2024-01-07T07:43:16.248281",
     "exception": false,
     "start_time": "2024-01-07T07:43:16.239374",
     "status": "completed"
    },
    "tags": []
   },
   "source": [
    "## How to Calculate Expected Tackles (xT)"
   ]
  },
  {
   "cell_type": "markdown",
   "id": "67553a8f",
   "metadata": {
    "papermill": {
     "duration": 0.00955,
     "end_time": "2024-01-07T07:43:16.266743",
     "exception": false,
     "start_time": "2024-01-07T07:43:16.257193",
     "status": "completed"
    },
    "tags": []
   },
   "source": [
    "For any given snap, the $j$th player's expected number of tackles **$xT$ equals the probability that the average player gets a tackle on the play**:\n",
    "\n",
    "\\begin{aligned}\n",
    "xT_{i} &= (numberOfTackles  | isTackler)(P(isTackler) + (numberOfTackles | isNotTackler)*P(isNotTackler)          \\\\\n",
    "&= 1*P(isTackler) + 0*(P(isNotTackler))                                        \\\\\n",
    "&= P(isTackler)                                                                      \\\\\n",
    "\\end{aligned}\n",
    "\n",
    "Formally, we want the probability that player $j$ is the tackler at time $t$ given all the events that have previously occured:\n",
    "\n",
    "$$\n",
    "P(T_{jt} | S_{t}, S_{t-1}, S_{t-2},...,S_{0})$$\n",
    "where $S_{k}$ is the state of the game at time k. Due to project time constraints, we make the simplifying assumption that $P(T_{jt} | S_{t}, S_{t-1}, S_{t-2},...,S_{0}) = P(T_{jt} | S_{t})$; i.e. we only consider the current state of the field for our predictions.\n",
    "\n",
    "For a given player $j$ this gives us a sequence of probabilities as the play develops $p_{j0}, p_{j1}, p_{j2},...,p_{jT}$. To get a single statistic to summarize this sequence of $T$ probabilities, we take the average to get the $jth$ player's final $xT$ for the play. Subtracting this from the player's true number of tackles gives us our Tackles Over Expected (ToE) metric for a play.\n",
    "\n",
    "All that's left is to actually generate the probabilities."
   ]
  },
  {
   "cell_type": "markdown",
   "id": "0c4eb0fa",
   "metadata": {
    "id": "hGjGhR-6-E-b",
    "papermill": {
     "duration": 0.00874,
     "end_time": "2024-01-07T07:43:16.283912",
     "exception": false,
     "start_time": "2024-01-07T07:43:16.275172",
     "status": "completed"
    },
    "tags": []
   },
   "source": [
    "## A New Approach - Going Deeper"
   ]
  },
  {
   "cell_type": "markdown",
   "id": "061e7620",
   "metadata": {
    "id": "3YflUjzC-E-b",
    "papermill": {
     "duration": 0.00908,
     "end_time": "2024-01-07T07:43:16.302264",
     "exception": false,
     "start_time": "2024-01-07T07:43:16.293184",
     "status": "completed"
    },
    "tags": []
   },
   "source": [
    "The historical way of tackling such a problem was to handcraft useful features and plug these into older machine learning methods (such as tree-based models or SVMs). This has even been the framework in past Big Data Bowl winners. In the 2022 winning submission [Punt Returns: Using the Math to Find the Path](https://www.kaggle.com/code/robynritchie/punt-returns-using-the-math-to-find-the-path/notebook), the authors need to calculate what they define as Penalized Expected Arrival Time to the Returner:\n",
    "\n",
    "> Intuitively speaking, this time penalty is:  \n",
    "1-5 seconds when the blocker is <5 yards to the tackler and directly in his path,  \n",
    "0.1-1 seconds when the blocker is >5 yards from the tackler but in the neighbourhood of his path, or  \n",
    "0-0.1 seconds when he is far enough to the side of the tackler’s path that he will likely not be able to block him.\n",
    ">\n",
    "\n",
    "Aprior, we don't know how true these explicit assumptions and parameterizations are. A weighted Gaussian kernel is used — is it parameterized well? Could a non-parametric approach perform better, one that has the representational power to generate multimodal blocker time distributions, conditioned on blocker success or talent?\n",
    "\n",
    "**Deep learning models do not require such restrictive assumptions**, being able to take as input raw data and learn whatever representations are supported by the data. For this reason, we turn our *attention* to more flexible architectures."
   ]
  },
  {
   "cell_type": "markdown",
   "id": "3e798392",
   "metadata": {
    "id": "UyWt4_BN-E-b",
    "papermill": {
     "duration": 0.008344,
     "end_time": "2024-01-07T07:43:16.319182",
     "exception": false,
     "start_time": "2024-01-07T07:43:16.310838",
     "status": "completed"
    },
    "tags": []
   },
   "source": [
    "## Attention-Based Transformer Models"
   ]
  },
  {
   "cell_type": "markdown",
   "id": "d7f83bbf",
   "metadata": {
    "id": "YnmouC3l-E-b",
    "papermill": {
     "duration": 0.008498,
     "end_time": "2024-01-07T07:43:16.336337",
     "exception": false,
     "start_time": "2024-01-07T07:43:16.327839",
     "status": "completed"
    },
    "tags": []
   },
   "source": [
    "**The model is a Transformer-based architecture utilizing the concept of [attention](https://arxiv.org/abs/1706.03762) in machine learning, which has revolutionized a model's ability to process sequences.** If we think of our 23 players on the field at a specific time as an unordered sequence, a transformer can focus on the most relevant players at a given time and predict who will be the final tackler, all without affixing an arbitrary ordering to the players."
   ]
  },
  {
   "cell_type": "markdown",
   "id": "fca1a856",
   "metadata": {
    "papermill": {
     "duration": 0.008527,
     "end_time": "2024-01-07T07:43:16.353290",
     "exception": false,
     "start_time": "2024-01-07T07:43:16.344763",
     "status": "completed"
    },
    "tags": []
   },
   "source": [
    "<center>\n",
    "<div class=\"prs\">\n",
    "    <div class=\"title\" style=\"text-align:left;\">\n",
    "        <h2 style=\"font-size:24px\"><b>Neural Network Architecture</b></h2>\n",
    "        <i> The model takes in each player's feature vector, passes it through a Transformer's Encoder block, and eventually outputs the probability that player will make a tackle.\n",
    "        </i>\n",
    "        <br>\n",
    "        <br>\n",
    "    </div>\n",
    "        <img src=\"https://github.com/scottmaran/big_data_bowl_2024/blob/main/statistics/report_data/images/tackle_arch_high_sat.jpeg?raw=true\" width=100%>\n",
    "    </div>\n",
    "<center>"
   ]
  },
  {
   "cell_type": "markdown",
   "id": "74f23926",
   "metadata": {
    "papermill": {
     "duration": 0.008887,
     "end_time": "2024-01-07T07:43:16.370826",
     "exception": false,
     "start_time": "2024-01-07T07:43:16.361939",
     "status": "completed"
    },
    "tags": []
   },
   "source": [
    "At time $t$, we define our state $S_{t}$ as a $(23,P)$ matrix, where each row represents the $i^{th}$ player (including the ball) on the field and $P=$ the number of features per agent. In our base model, $P=9$, with features:\n",
    "\n",
    "**$[$IsAttackingTeam, IsFootball, IsBallCarrier, XCoord, YCoord, Direction, Orientation, Speed, Acceleration$]$**\n",
    "\n",
    "Successive models include height, weight, and position. The only feature preprocessing we did was to standardize the features according to [Michael Lopez's notebook](https://www.kaggle.com/statsbymichaellopez/nfl-tracking-wrangling-voronoi-and-sonars) and normalize them to improve training speed."
   ]
  },
  {
   "cell_type": "markdown",
   "id": "38906b4f",
   "metadata": {
    "papermill": {
     "duration": 0.008472,
     "end_time": "2024-01-07T07:43:16.387848",
     "exception": false,
     "start_time": "2024-01-07T07:43:16.379376",
     "status": "completed"
    },
    "tags": []
   },
   "source": [
    "\n",
    "\n"
   ]
  },
  {
   "cell_type": "markdown",
   "id": "8c185b4d",
   "metadata": {
    "id": "Ne7Y_jIl-E-b",
    "papermill": {
     "duration": 0.009145,
     "end_time": "2024-01-07T07:43:16.405497",
     "exception": false,
     "start_time": "2024-01-07T07:43:16.396352",
     "status": "completed"
    },
    "tags": []
   },
   "source": [
    "# Accounting for Player Positions"
   ]
  },
  {
   "cell_type": "markdown",
   "id": "976f1450",
   "metadata": {
    "id": "sNP6HFYt-E-b",
    "papermill": {
     "duration": 0.008514,
     "end_time": "2024-01-07T07:43:16.422904",
     "exception": false,
     "start_time": "2024-01-07T07:43:16.414390",
     "status": "completed"
    },
    "tags": []
   },
   "source": [
    "## Including Tactical Context"
   ]
  },
  {
   "cell_type": "markdown",
   "id": "1d56ebdc",
   "metadata": {
    "id": "Ada0SWA6-E-b",
    "papermill": {
     "duration": 0.008834,
     "end_time": "2024-01-07T07:43:16.440984",
     "exception": false,
     "start_time": "2024-01-07T07:43:16.432150",
     "status": "completed"
    },
    "tags": []
   },
   "source": [
    "Before moving on to the model outputs, have we accounted for all the context we need on the field? With NGS data we have all the physical movements, but can we incorporate the **tactical context** going on during the play?\n",
    "\n",
    "For example, suppose Derrick Henry (RB) is carrying the ball up the middle, breaking tackle attempts from player A (MLB) and player B (FS). Given nearly identical NGS features (think acceleration, angle, distance to ball carrier), should we have different tackling expectations based on their position's responsibilities?"
   ]
  },
  {
   "cell_type": "markdown",
   "id": "a4c74f0d",
   "metadata": {
    "id": "3A6EQ_dI-E-b",
    "papermill": {
     "duration": 0.008609,
     "end_time": "2024-01-07T07:43:16.458333",
     "exception": false,
     "start_time": "2024-01-07T07:43:16.449724",
     "status": "completed"
    },
    "tags": []
   },
   "source": [
    "## Defining Positional Embeddings"
   ]
  },
  {
   "cell_type": "markdown",
   "id": "f9946ddd",
   "metadata": {
    "id": "LUf9fnwU-E-b",
    "papermill": {
     "duration": 0.008617,
     "end_time": "2024-01-07T07:43:16.475696",
     "exception": false,
     "start_time": "2024-01-07T07:43:16.467079",
     "status": "completed"
    },
    "tags": []
   },
   "source": [
    "We want to be able to account for player position. The most obvious approach would be to assign dummy variables to each position. For example, a 1 if quarterback, 0 if not. But with so many positions, that would mean adding 20 dummy variables to our data, 19 of which would be 0 for any given player. One issue with this is that adding a large number of dummy variables effectively [reduces](https://files.eric.ed.gov/fulltext/ED493866.pdf) the amount of training data.\n",
    "\n",
    "Additionally, using 1s (player is a cornerback) and 0s (is not a cornerback) ignores relationships that exist between positions (isn’t a cornerback more like a safety in their behavior than a guard?). If we want to preserve these relationships, we need a continuous representation (e.g. 0.75 for CBs, 0.7 for S, and 0.2 for G).\n"
   ]
  },
  {
   "cell_type": "markdown",
   "id": "6271f4f7",
   "metadata": {
    "id": "YdtgCjh2-E-b",
    "papermill": {
     "duration": 0.010072,
     "end_time": "2024-01-07T07:43:16.494189",
     "exception": false,
     "start_time": "2024-01-07T07:43:16.484117",
     "status": "completed"
    },
    "tags": []
   },
   "source": [
    "## The Graph2Vec Algorithm"
   ]
  },
  {
   "cell_type": "markdown",
   "id": "189580fc",
   "metadata": {
    "id": "OeOnHqAt-E-b",
    "papermill": {
     "duration": 0.051295,
     "end_time": "2024-01-07T07:43:16.553993",
     "exception": false,
     "start_time": "2024-01-07T07:43:16.502698",
     "status": "completed"
    },
    "tags": []
   },
   "source": [
    "At a high level, the Graph2Vec algorithm learns a representation of the player's position by considering both their location on the field and distance to every other player at every moment they're on the football field. The inspiration behind this [algorithm](https://nlp.stanford.edu/pubs/glove.pdf) in the NLP community is that a word can be defined by its surrounding words in a sentence.\n",
    "\n",
    "Translated to sports, **we can define a player's position by the surrounding players in a play**. We do this by representing each player on the field as a node in a graph, connected by edges (weighted by their distance)*."
   ]
  },
  {
   "cell_type": "markdown",
   "id": "511200b1",
   "metadata": {
    "id": "qY3TwST2-E-c",
    "papermill": {
     "duration": 0.008901,
     "end_time": "2024-01-07T07:43:16.571819",
     "exception": false,
     "start_time": "2024-01-07T07:43:16.562918",
     "status": "completed"
    },
    "tags": []
   },
   "source": [
    "## Positional Relationships"
   ]
  },
  {
   "cell_type": "markdown",
   "id": "92852307",
   "metadata": {
    "id": "s4JJaho6-E-c",
    "papermill": {
     "duration": 0.008687,
     "end_time": "2024-01-07T07:43:16.589288",
     "exception": false,
     "start_time": "2024-01-07T07:43:16.580601",
     "status": "completed"
    },
    "tags": []
   },
   "source": [
    "Let's first make it clear what our output is. Below would be a 20-dimensional dummy-encoding vector with each dimension (column) having an interpretable meaning - the first representing \"is quarterback\", the second \"is wide receiver\", etc:\n",
    "\n",
    "Cooper_Kupp = $[0,1,0,0,0,0,0,0,0,0,0,0,0,0,0,0,0,0,0,0,0,0,0]$\n",
    "\n",
    "For our 32-dimensional positional embedding vector, we instead have:\n",
    "\n",
    "Cooper_Kupp = $[-3.07, -5.81, 14.20, 2.41, 6.12, 4.34, -1.89, -3.83, 3.15, ...]$\n",
    "\n",
    "What does each dimension represent? It's not explicitly defined - it's what the model learned. We can try to intuit some meaning from them by viewing them on a graph:"
   ]
  },
  {
   "cell_type": "markdown",
   "id": "71aadce1",
   "metadata": {
    "papermill": {
     "duration": 0.009345,
     "end_time": "2024-01-07T07:43:16.607063",
     "exception": false,
     "start_time": "2024-01-07T07:43:16.597718",
     "status": "completed"
    },
    "tags": []
   },
   "source": [
    "<center>\n",
    "<div class=\"prs\">\n",
    "    <div class=\"title\" style=\"text-align:left;\">\n",
    "        <h2 style=\"font-size:24px\"><b>Clustered 2-D Projection of Positional Embeddings</b></h2>\n",
    "        <i> We can visually inspect player vectors by projecting them into a 2-D vector space using <br>\n",
    "            the t-SNE algorithm. We can identify similar groups within this space using spectral clustering.\n",
    "        </i>\n",
    "        <br>\n",
    "        <br>\n",
    "    </div>\n",
    "        <img src=\"https://github.com/scottmaran/big_data_bowl_2024/blob/main/statistics/report_data/images/embeddings_32_dim_cluster_plot_no_titles.png?raw=true\" width=100%>\n",
    "    </div>\n",
    "<center>"
   ]
  },
  {
   "cell_type": "markdown",
   "id": "695848a3",
   "metadata": {
    "id": "5il_f-CA-E-c",
    "papermill": {
     "duration": 0.00856,
     "end_time": "2024-01-07T07:43:16.624350",
     "exception": false,
     "start_time": "2024-01-07T07:43:16.615790",
     "status": "completed"
    },
    "tags": []
   },
   "source": [
    "For example, take the green cluster. Our (projected) Cooper Kupp positional embedding would look approximately like:\n",
    "\n",
    "Cooper_Kupp = $[40, -21.0]$\n",
    "\n",
    "Though there are a few wide receivers in an adjacent cluster (like Michael Thomas, Skyy Moore), we can see Kupp surrounded by guys like Stefon Diggs and Gabe Davis. In fact, it seems like a lot of the wide receivers have a dimension 2 value of less than -15. One possible interpretation of our embeddings is that negative values of dimension 2 encode some sort of measure of \"wide receiver-ness\". "
   ]
  },
  {
   "cell_type": "markdown",
   "id": "ffefe45f",
   "metadata": {
    "papermill": {
     "duration": 0.008285,
     "end_time": "2024-01-07T07:43:16.641043",
     "exception": false,
     "start_time": "2024-01-07T07:43:16.632758",
     "status": "completed"
    },
    "tags": []
   },
   "source": [
    "We can also see that **the relationships we would expect to exist between positions arise naturally from our embeddings** by taking the similarity of every pair of player's embeddings and grouping by position:"
   ]
  },
  {
   "cell_type": "markdown",
   "id": "2cda6b71",
   "metadata": {
    "papermill": {
     "duration": 0.008308,
     "end_time": "2024-01-07T07:43:16.657635",
     "exception": false,
     "start_time": "2024-01-07T07:43:16.649327",
     "status": "completed"
    },
    "tags": []
   },
   "source": [
    "<center>\n",
    "<div class=\"prs\">\n",
    "    <div class=\"title\" style=\"text-align:left;\">\n",
    "        <h2 style=\"font-size:24px\"><b>Similarity Between Positions</b></h2>  \n",
    "        <i> Note that the positions we would expect to be similar (FS, SS, CB) are similar,<br>\n",
    "            while the positions we would expect to be dissimilar (e.g. CB & G) are dissimilar\n",
    "        </i>\n",
    "        <br>\n",
    "        <br>\n",
    "    </div>\n",
    "        <img src=\"https://github.com/scottmaran/big_data_bowl_2024/blob/main/statistics/report_data/images/similarity_32_dim_no_titles.png?raw=true\" width=100%>\n",
    "    </div>\n",
    "</center>"
   ]
  },
  {
   "cell_type": "markdown",
   "id": "4f947882",
   "metadata": {
    "id": "kqM2eo7K-E-c",
    "papermill": {
     "duration": 0.00877,
     "end_time": "2024-01-07T07:43:16.675152",
     "exception": false,
     "start_time": "2024-01-07T07:43:16.666382",
     "status": "completed"
    },
    "tags": []
   },
   "source": [
    "### Pass-Catching Running Backs - Case Study"
   ]
  },
  {
   "cell_type": "markdown",
   "id": "336d6f9a",
   "metadata": {
    "id": "XFyPDHcE-E-c",
    "papermill": {
     "duration": 0.008407,
     "end_time": "2024-01-07T07:43:16.692074",
     "exception": false,
     "start_time": "2024-01-07T07:43:16.683667",
     "status": "completed"
    },
    "tags": []
   },
   "source": [
    "The original motivation behind this idea was how to properly represent players who didn't fit nicely into a single well-defined position. The current 49ers roster, headlined by Deebo Samuel and Christian McCaffrey, have an abundance of these types of players.\n",
    "\n",
    "In fact, there were two WRs with over 100 rushing yards last season - Deebo Samuel (SF) and Curtis Samuel (WAS). The top three RBs in both receptions and receiving yards were Austin Ekeler, Leonard Fournette, and Christian McCaffrey. To test our positional embeddings, shouldn't these WRs be more similar to RBs than the average WR (and vice versa for the listed RBS)? \n",
    "\n",
    "This turns out to be the case — the WRs and RBs are higher than the average WR-RB similarity. **This is part of the tactical context that positional embeddings capture but dummy-variable encoding and NGS data ignore**.\n"
   ]
  },
  {
   "cell_type": "markdown",
   "id": "f417ef2c",
   "metadata": {
    "papermill": {
     "duration": 0.008554,
     "end_time": "2024-01-07T07:43:16.709016",
     "exception": false,
     "start_time": "2024-01-07T07:43:16.700462",
     "status": "completed"
    },
    "tags": []
   },
   "source": [
    "<center>\n",
    "<div class=\"prs\">\n",
    "    <div class=\"title\" style=\"text-align:left;\">\n",
    "        <h2 style=\"font-size:24px\"><b>Similarity Between Players</b></h2>\n",
    "    <i>Our selected players (left graph) have a similarity higher than than the average similarity \n",
    "        between a WR and RB (bottom right cell), <br> and compared to other players (right graph)\n",
    "    </i>\n",
    "    </div>\n",
    "    <img src=\"https://github.com/scottmaran/big_data_bowl_2024/blob/main/statistics/report_data/images/similarity_between_players_heatmap.png?raw=true\" width=100%>\n",
    "</div>\n",
    "<center>"
   ]
  },
  {
   "cell_type": "markdown",
   "id": "f5461f78",
   "metadata": {
    "papermill": {
     "duration": 0.008661,
     "end_time": "2024-01-07T07:43:16.726358",
     "exception": false,
     "start_time": "2024-01-07T07:43:16.717697",
     "status": "completed"
    },
    "tags": []
   },
   "source": [
    "The result also holds for slot receivers like Cooper Kupp and Tyler Boyd - they are more similar to the average RB (avg_rb row) than an average WR (bottom-right cell)."
   ]
  },
  {
   "cell_type": "markdown",
   "id": "a65c9c4e",
   "metadata": {
    "id": "lbAYEDZn-E-c",
    "papermill": {
     "duration": 0.008227,
     "end_time": "2024-01-07T07:43:16.743166",
     "exception": false,
     "start_time": "2024-01-07T07:43:16.734939",
     "status": "completed"
    },
    "tags": []
   },
   "source": [
    "# Model Breakdown"
   ]
  },
  {
   "cell_type": "markdown",
   "id": "61721a2f",
   "metadata": {
    "papermill": {
     "duration": 0.008349,
     "end_time": "2024-01-07T07:43:16.759976",
     "exception": false,
     "start_time": "2024-01-07T07:43:16.751627",
     "status": "completed"
    },
    "tags": []
   },
   "source": [
    "Now that we have probabilities that include the context surrounding a player, we can model his probability of finishing with the tackle."
   ]
  },
  {
   "cell_type": "markdown",
   "id": "accaa5d8",
   "metadata": {
    "papermill": {
     "duration": 0.008524,
     "end_time": "2024-01-07T07:43:16.776970",
     "exception": false,
     "start_time": "2024-01-07T07:43:16.768446",
     "status": "completed"
    },
    "tags": []
   },
   "source": [
    "<center>\n",
    "<div class=\"prs\">\n",
    "    <div class=\"title\" style=\"text-align:left;\">\n",
    "        <h2 style=\"font-size:22px\"><b>Example Play</b></h2>  \n",
    "        <i> Here we can see the state of the field, the current probabilities of each defender\n",
    "            registering a tackle, and how these probabilities change over time (and vary within each model)\n",
    "        </i>\n",
    "        <br>\n",
    "        <br>\n",
    "    </div>\n",
    "        <img src=\"https://github.com/scottmaran/big_data_bowl_2024/blob/main/statistics/report_data/videos/video_2022100213_3554.gif?raw=True\" width=100%>\n",
    "        <br>\n",
    "        <img src=\"https://github.com/scottmaran/big_data_bowl_2024/blob/main/statistics/report_data/model_preds_line_800_300_names.gif?raw=True\" width=100%>\n",
    "    </div>\n",
    "<center>"
   ]
  },
  {
   "cell_type": "markdown",
   "id": "06399cb5",
   "metadata": {
    "papermill": {
     "duration": 0.009421,
     "end_time": "2024-01-07T07:43:16.794957",
     "exception": false,
     "start_time": "2024-01-07T07:43:16.785536",
     "status": "completed"
    },
    "tags": []
   },
   "source": [
    "If we look closer at a few specific timesteps, we can see one of the model's greatest strengths - **its ability to learn the affects of high-level features (like blocking) from raw data**. "
   ]
  },
  {
   "cell_type": "markdown",
   "id": "d2a13449",
   "metadata": {
    "papermill": {
     "duration": 0.009459,
     "end_time": "2024-01-07T07:43:16.813274",
     "exception": false,
     "start_time": "2024-01-07T07:43:16.803815",
     "status": "completed"
    },
    "tags": []
   },
   "source": [
    "<center>\n",
    "<img src=\"https://github.com/scottmaran/big_data_bowl_2024/blob/main/statistics/report_data/images/video_img_1_caption_box.png?raw=true\" width=100%>\n",
    "</center>"
   ]
  },
  {
   "cell_type": "markdown",
   "id": "1a2a059f",
   "metadata": {
    "papermill": {
     "duration": 0.009372,
     "end_time": "2024-01-07T07:43:16.831052",
     "exception": false,
     "start_time": "2024-01-07T07:43:16.821680",
     "status": "completed"
    },
    "tags": []
   },
   "source": [
    "<center>\n",
    "<img src=\"https://github.com/scottmaran/big_data_bowl_2024/blob/main/statistics/report_data/images/video_img_2_caption_box.png?raw=true\" width=100%>\n",
    "</center>"
   ]
  },
  {
   "cell_type": "markdown",
   "id": "3763e882",
   "metadata": {
    "id": "qia5S34Q-E-l",
    "papermill": {
     "duration": 0.008674,
     "end_time": "2024-01-07T07:43:16.849312",
     "exception": false,
     "start_time": "2024-01-07T07:43:16.840638",
     "status": "completed"
    },
    "tags": []
   },
   "source": [
    "## Summary Statistics"
   ]
  },
  {
   "cell_type": "markdown",
   "id": "9f17f523",
   "metadata": {
    "id": "5hMdsFYi-E-l",
    "papermill": {
     "duration": 0.009114,
     "end_time": "2024-01-07T07:43:16.867690",
     "exception": false,
     "start_time": "2024-01-07T07:43:16.858576",
     "status": "completed"
    },
    "tags": []
   },
   "source": [
    "As a baseline, we simply predicted the tackler as the defender closest to the ball. **Our model is much better at predicting the correct tackler than this naive baseline.** The prediction performance is also further improved by adding height, weight, and our own novel positional embeddings."
   ]
  },
  {
   "cell_type": "code",
   "execution_count": 2,
   "id": "4dbdfbf7",
   "metadata": {
    "_kg_hide-input": true,
    "execution": {
     "iopub.execute_input": "2024-01-07T07:43:16.933928Z",
     "iopub.status.busy": "2024-01-07T07:43:16.887078Z",
     "iopub.status.idle": "2024-01-07T07:43:17.803829Z",
     "shell.execute_reply": "2024-01-07T07:43:17.802174Z"
    },
    "papermill": {
     "duration": 0.930077,
     "end_time": "2024-01-07T07:43:17.806532",
     "exception": false,
     "start_time": "2024-01-07T07:43:16.876455",
     "status": "completed"
    },
    "tags": []
   },
   "outputs": [
    {
     "data": {
      "text/html": [
       "<div id=\"tzzxjuockz\" style=\"padding-left:0px;padding-right:0px;padding-top:10px;padding-bottom:10px;overflow-x:auto;overflow-y:auto;width:auto;height:auto;\">\n",
       "  \n",
       "  <table class=\"gt_table\" data-quarto-disable-processing=\"false\" data-quarto-bootstrap=\"false\" style=\"-webkit-font-smoothing: antialiased; -moz-osx-font-smoothing: grayscale; font-family: system-ui, 'Segoe UI', Roboto, Helvetica, Arial, sans-serif, 'Apple Color Emoji', 'Segoe UI Emoji', 'Segoe UI Symbol', 'Noto Color Emoji'; display: table; border-collapse: collapse; line-height: normal; margin-left: auto; margin-right: auto; color: #333333; font-size: 16px; font-weight: normal; font-style: normal; background-color: #FFFFFF; width: auto; border-top-style: solid; border-top-width: 2px; border-top-color: #A8A8A8; border-right-style: none; border-right-width: 2px; border-right-color: #D3D3D3; border-bottom-style: solid; border-bottom-width: 2px; border-bottom-color: #A8A8A8; border-left-style: none; border-left-width: 2px; border-left-color: #D3D3D3;\" bgcolor=\"#FFFFFF\">\n",
       "  <thead style=\"border-style: none;\">\n",
       "    <tr class=\"gt_heading\" style=\"border-style: none; background-color: #FFFFFF; text-align: center; border-bottom-color: #FFFFFF; border-left-style: none; border-left-width: 1px; border-left-color: #D3D3D3; border-right-style: none; border-right-width: 1px; border-right-color: #D3D3D3;\" bgcolor=\"#FFFFFF\" align=\"center\">\n",
       "      <td colspan=\"6\" class=\"gt_heading gt_title gt_font_normal gt_bottom_border\" style=\"border-style: none; color: #333333; font-size: 125%; padding-top: 4px; padding-bottom: 4px; padding-left: 5px; padding-right: 5px; background-color: #FFFFFF; text-align: center; border-left-style: none; border-left-width: 1px; border-left-color: #D3D3D3; border-right-style: none; border-right-width: 1px; border-right-color: #D3D3D3; border-bottom-style: solid; border-bottom-width: 2px; border-bottom-color: #D3D3D3; font-weight: normal;\" bgcolor=\"#FFFFFF\" align=\"center\">Model Statistics</td>\n",
       "    </tr>\n",
       "    \n",
       "    <tr class=\"gt_col_headings gt_spanner_row\" style=\"border-style: none; border-top-style: solid; border-top-width: 2px; border-top-color: #D3D3D3; border-bottom-width: 2px; border-bottom-color: #D3D3D3; border-left-style: none; border-left-width: 1px; border-left-color: #D3D3D3; border-right-style: none; border-right-width: 1px; border-right-color: #D3D3D3; border-bottom-style: hidden;\">\n",
       "      <th class=\"gt_col_heading gt_columns_bottom_border gt_left\" rowspan=\"2\" colspan=\"1\" scope=\"col\" id style=\"border-style: none; color: #333333; background-color: #FFFFFF; font-size: 100%; font-weight: normal; text-transform: inherit; border-left-style: none; border-left-width: 1px; border-left-color: #D3D3D3; border-right-style: none; border-right-width: 1px; border-right-color: #D3D3D3; vertical-align: bottom; padding-top: 5px; padding-bottom: 6px; padding-left: 5px; padding-right: 5px; overflow-x: hidden; text-align: left;\" bgcolor=\"#FFFFFF\" valign=\"bottom\" align=\"left\"></th>\n",
       "      <th class=\"gt_center gt_columns_top_border gt_column_spanner_outer\" rowspan=\"1\" colspan=\"4\" scope=\"colgroup\" id=\"Frame-Level Accuracy %\" style=\"border-style: none; color: #333333; background-color: #FFFFFF; font-size: 100%; font-weight: normal; text-transform: inherit; padding-top: 0; padding-bottom: 0; padding-left: 4px; padding-right: 4px; text-align: center;\" bgcolor=\"#FFFFFF\" align=\"center\">\n",
       "        <span class=\"gt_column_spanner\" style=\"border-bottom-style: solid; border-bottom-width: 2px; border-bottom-color: #D3D3D3; vertical-align: bottom; padding-top: 5px; padding-bottom: 5px; overflow-x: hidden; display: inline-block; width: 100%;\">Frame-Level Accuracy %</span>\n",
       "      </th>\n",
       "      <th class=\"gt_center gt_columns_top_border gt_column_spanner_outer\" rowspan=\"1\" colspan=\"1\" scope=\"col\" id=\"Play-Level Accuracy %\" style=\"border-style: none; color: #333333; background-color: #FFFFFF; font-size: 100%; font-weight: normal; text-transform: inherit; padding-top: 0; padding-bottom: 0; padding-left: 4px; text-align: center; padding-right: 0;\" bgcolor=\"#FFFFFF\" align=\"center\">\n",
       "        <span class=\"gt_column_spanner\" style=\"border-bottom-style: solid; border-bottom-width: 2px; border-bottom-color: #D3D3D3; vertical-align: bottom; padding-top: 5px; padding-bottom: 5px; overflow-x: hidden; display: inline-block; width: 100%;\">Play-Level Accuracy %</span>\n",
       "      </th>\n",
       "    </tr>\n",
       "    <tr class=\"gt_col_headings\" style=\"border-style: none; border-top-style: solid; border-top-width: 2px; border-top-color: #D3D3D3; border-bottom-style: solid; border-bottom-width: 2px; border-bottom-color: #D3D3D3; border-left-style: none; border-left-width: 1px; border-left-color: #D3D3D3; border-right-style: none; border-right-width: 1px; border-right-color: #D3D3D3;\">\n",
       "      <th class=\"gt_col_heading gt_columns_bottom_border gt_right\" rowspan=\"1\" colspan=\"1\" scope=\"col\" id=\"1/4 mark\" style=\"border-style: none; color: #333333; background-color: #FFFFFF; font-size: 100%; font-weight: normal; text-transform: inherit; border-left-style: none; border-left-width: 1px; border-left-color: #D3D3D3; border-right-style: none; border-right-width: 1px; border-right-color: #D3D3D3; vertical-align: bottom; padding-top: 5px; padding-bottom: 6px; padding-left: 5px; padding-right: 5px; overflow-x: hidden; text-align: right; font-variant-numeric: tabular-nums;\" bgcolor=\"#FFFFFF\" valign=\"bottom\" align=\"right\">1/4 mark</th>\n",
       "      <th class=\"gt_col_heading gt_columns_bottom_border gt_right\" rowspan=\"1\" colspan=\"1\" scope=\"col\" id=\"1/2 mark\" style=\"border-style: none; color: #333333; background-color: #FFFFFF; font-size: 100%; font-weight: normal; text-transform: inherit; border-left-style: none; border-left-width: 1px; border-left-color: #D3D3D3; border-right-style: none; border-right-width: 1px; border-right-color: #D3D3D3; vertical-align: bottom; padding-top: 5px; padding-bottom: 6px; padding-left: 5px; padding-right: 5px; overflow-x: hidden; text-align: right; font-variant-numeric: tabular-nums;\" bgcolor=\"#FFFFFF\" valign=\"bottom\" align=\"right\">1/2 mark</th>\n",
       "      <th class=\"gt_col_heading gt_columns_bottom_border gt_right\" rowspan=\"1\" colspan=\"1\" scope=\"col\" id=\"3/4 mark\" style=\"border-style: none; color: #333333; background-color: #FFFFFF; font-size: 100%; font-weight: normal; text-transform: inherit; border-left-style: none; border-left-width: 1px; border-left-color: #D3D3D3; border-right-style: none; border-right-width: 1px; border-right-color: #D3D3D3; vertical-align: bottom; padding-top: 5px; padding-bottom: 6px; padding-left: 5px; padding-right: 5px; overflow-x: hidden; text-align: right; font-variant-numeric: tabular-nums;\" bgcolor=\"#FFFFFF\" valign=\"bottom\" align=\"right\">3/4 mark</th>\n",
       "      <th class=\"gt_col_heading gt_columns_bottom_border gt_right\" rowspan=\"1\" colspan=\"1\" scope=\"col\" id=\"Final Frame\" style=\"border-style: none; color: #333333; background-color: #FFFFFF; font-size: 100%; font-weight: normal; text-transform: inherit; border-left-style: none; border-left-width: 1px; border-left-color: #D3D3D3; border-right-style: none; border-right-width: 1px; border-right-color: #D3D3D3; vertical-align: bottom; padding-top: 5px; padding-bottom: 6px; padding-left: 5px; padding-right: 5px; overflow-x: hidden; text-align: right; font-variant-numeric: tabular-nums;\" bgcolor=\"#FFFFFF\" valign=\"bottom\" align=\"right\">Final Frame</th>\n",
       "      <th class=\"gt_col_heading gt_columns_bottom_border gt_right\" rowspan=\"1\" colspan=\"1\" scope=\"col\" id=\"Anytime Acc%\" style=\"border-style: none; color: #333333; background-color: #FFFFFF; font-size: 100%; font-weight: normal; text-transform: inherit; border-left-style: none; border-left-width: 1px; border-left-color: #D3D3D3; border-right-style: none; border-right-width: 1px; border-right-color: #D3D3D3; vertical-align: bottom; padding-top: 5px; padding-bottom: 6px; padding-left: 5px; padding-right: 5px; overflow-x: hidden; text-align: right; font-variant-numeric: tabular-nums;\" bgcolor=\"#FFFFFF\" valign=\"bottom\" align=\"right\">Anytime Acc%</th>\n",
       "    </tr>\n",
       "  </thead>\n",
       "  <tbody class=\"gt_table_body\" style=\"border-style: none; border-top-style: solid; border-top-width: 2px; border-top-color: #D3D3D3; border-bottom-style: solid; border-bottom-width: 2px; border-bottom-color: #D3D3D3;\">\n",
       "    <tr style=\"border-style: none;\"><th id=\"stub_1_1\" scope=\"row\" class=\"gt_row gt_left gt_stub\" style=\"border-style: none; padding-top: 8px; padding-bottom: 8px; margin: 10px; border-top-style: solid; border-top-width: 1px; border-top-color: #D3D3D3; border-left-style: none; border-left-width: 1px; border-left-color: #D3D3D3; vertical-align: middle; overflow-x: hidden; color: #333333; background-color: #FFFFFF; font-size: 100%; font-weight: initial; text-transform: inherit; border-right-style: solid; border-right-width: 2px; border-right-color: #D3D3D3; padding-left: 5px; padding-right: 5px; text-align: left;\" valign=\"middle\" bgcolor=\"#FFFFFF\" align=\"left\">Baseline</th>\n",
       "<td headers=\"stub_1_1 quarter\" class=\"gt_row gt_right\" style=\"border-style: none; padding-top: 8px; padding-bottom: 8px; padding-left: 5px; padding-right: 5px; margin: 10px; border-top-style: solid; border-top-width: 1px; border-top-color: #D3D3D3; border-left-style: none; border-left-width: 1px; border-left-color: #D3D3D3; border-right-style: none; border-right-width: 1px; border-right-color: #D3D3D3; vertical-align: middle; overflow-x: hidden; text-align: right; font-variant-numeric: tabular-nums; background-color: #FFFFFF; color: #000000;\" bgcolor=\"#FFFFFF\" valign=\"middle\" align=\"right\">34.5</td>\n",
       "<td headers=\"stub_1_1 half\" class=\"gt_row gt_right\" style=\"border-style: none; padding-top: 8px; padding-bottom: 8px; padding-left: 5px; padding-right: 5px; margin: 10px; border-top-style: solid; border-top-width: 1px; border-top-color: #D3D3D3; border-left-style: none; border-left-width: 1px; border-left-color: #D3D3D3; border-right-style: none; border-right-width: 1px; border-right-color: #D3D3D3; vertical-align: middle; overflow-x: hidden; text-align: right; font-variant-numeric: tabular-nums; background-color: #FFFFFF; color: #000000;\" bgcolor=\"#FFFFFF\" valign=\"middle\" align=\"right\">45.2</td>\n",
       "<td headers=\"stub_1_1 third\" class=\"gt_row gt_right\" style=\"border-style: none; padding-top: 8px; padding-bottom: 8px; padding-left: 5px; padding-right: 5px; margin: 10px; border-top-style: solid; border-top-width: 1px; border-top-color: #D3D3D3; border-left-style: none; border-left-width: 1px; border-left-color: #D3D3D3; border-right-style: none; border-right-width: 1px; border-right-color: #D3D3D3; vertical-align: middle; overflow-x: hidden; text-align: right; font-variant-numeric: tabular-nums; background-color: #FFFFFF; color: #000000;\" bgcolor=\"#FFFFFF\" valign=\"middle\" align=\"right\">64.6</td>\n",
       "<td headers=\"stub_1_1 final_frame\" class=\"gt_row gt_right\" style=\"border-style: none; padding-top: 8px; padding-bottom: 8px; padding-left: 5px; padding-right: 5px; margin: 10px; border-top-style: solid; border-top-width: 1px; border-top-color: #D3D3D3; border-left-style: none; border-left-width: 1px; border-left-color: #D3D3D3; border-right-style: none; border-right-width: 1px; border-right-color: #D3D3D3; vertical-align: middle; overflow-x: hidden; text-align: right; font-variant-numeric: tabular-nums; background-color: #FFFFFF; color: #000000;\" bgcolor=\"#FFFFFF\" valign=\"middle\" align=\"right\">54.0</td>\n",
       "<td headers=\"stub_1_1 anytime_acc\" class=\"gt_row gt_right\" style=\"border-style: none; padding-top: 8px; padding-bottom: 8px; padding-left: 5px; padding-right: 5px; margin: 10px; border-top-style: solid; border-top-width: 1px; border-top-color: #D3D3D3; border-left-style: none; border-left-width: 1px; border-left-color: #D3D3D3; border-right-style: none; border-right-width: 1px; border-right-color: #D3D3D3; vertical-align: middle; overflow-x: hidden; text-align: right; font-variant-numeric: tabular-nums; background-color: #FFFFFF; color: #000000;\" bgcolor=\"#FFFFFF\" valign=\"middle\" align=\"right\">91.3</td></tr>\n",
       "    <tr style=\"border-style: none;\"><th id=\"stub_1_2\" scope=\"row\" class=\"gt_row gt_left gt_stub\" style=\"border-style: none; padding-top: 8px; padding-bottom: 8px; margin: 10px; border-top-style: solid; border-top-width: 1px; border-top-color: #D3D3D3; border-left-style: none; border-left-width: 1px; border-left-color: #D3D3D3; vertical-align: middle; overflow-x: hidden; color: #333333; background-color: #FFFFFF; font-size: 100%; font-weight: initial; text-transform: inherit; border-right-style: solid; border-right-width: 2px; border-right-color: #D3D3D3; padding-left: 5px; padding-right: 5px; text-align: left;\" valign=\"middle\" bgcolor=\"#FFFFFF\" align=\"left\">Base Model</th>\n",
       "<td headers=\"stub_1_2 quarter\" class=\"gt_row gt_right\" style=\"border-style: none; padding-top: 8px; padding-bottom: 8px; padding-left: 5px; padding-right: 5px; margin: 10px; border-top-style: solid; border-top-width: 1px; border-top-color: #D3D3D3; border-left-style: none; border-left-width: 1px; border-left-color: #D3D3D3; border-right-style: none; border-right-width: 1px; border-right-color: #D3D3D3; vertical-align: middle; overflow-x: hidden; text-align: right; font-variant-numeric: tabular-nums; background-color: #FFFFFF; color: #000000;\" bgcolor=\"#FFFFFF\" valign=\"middle\" align=\"right\">43.8</td>\n",
       "<td headers=\"stub_1_2 half\" class=\"gt_row gt_right\" style=\"border-style: none; padding-top: 8px; padding-bottom: 8px; padding-left: 5px; padding-right: 5px; margin: 10px; border-top-style: solid; border-top-width: 1px; border-top-color: #D3D3D3; border-left-style: none; border-left-width: 1px; border-left-color: #D3D3D3; border-right-style: none; border-right-width: 1px; border-right-color: #D3D3D3; vertical-align: middle; overflow-x: hidden; text-align: right; font-variant-numeric: tabular-nums; background-color: #FFFFFF; color: #000000;\" bgcolor=\"#FFFFFF\" valign=\"middle\" align=\"right\">50.9</td>\n",
       "<td headers=\"stub_1_2 third\" class=\"gt_row gt_right\" style=\"border-style: none; padding-top: 8px; padding-bottom: 8px; padding-left: 5px; padding-right: 5px; margin: 10px; border-top-style: solid; border-top-width: 1px; border-top-color: #D3D3D3; border-left-style: none; border-left-width: 1px; border-left-color: #D3D3D3; border-right-style: none; border-right-width: 1px; border-right-color: #D3D3D3; vertical-align: middle; overflow-x: hidden; text-align: right; font-variant-numeric: tabular-nums; background-color: #FFFFFF; color: #000000;\" bgcolor=\"#FFFFFF\" valign=\"middle\" align=\"right\">61.6</td>\n",
       "<td headers=\"stub_1_2 final_frame\" class=\"gt_row gt_right\" style=\"border-style: none; padding-top: 8px; padding-bottom: 8px; padding-left: 5px; padding-right: 5px; margin: 10px; border-top-style: solid; border-top-width: 1px; border-top-color: #D3D3D3; border-left-style: none; border-left-width: 1px; border-left-color: #D3D3D3; border-right-style: none; border-right-width: 1px; border-right-color: #D3D3D3; vertical-align: middle; overflow-x: hidden; text-align: right; font-variant-numeric: tabular-nums; background-color: #FFFFFF; color: #000000;\" bgcolor=\"#FFFFFF\" valign=\"middle\" align=\"right\">64.3</td>\n",
       "<td headers=\"stub_1_2 anytime_acc\" class=\"gt_row gt_right\" style=\"border-style: none; padding-top: 8px; padding-bottom: 8px; padding-left: 5px; padding-right: 5px; margin: 10px; border-top-style: solid; border-top-width: 1px; border-top-color: #D3D3D3; border-left-style: none; border-left-width: 1px; border-left-color: #D3D3D3; border-right-style: none; border-right-width: 1px; border-right-color: #D3D3D3; vertical-align: middle; overflow-x: hidden; text-align: right; font-variant-numeric: tabular-nums; background-color: #FFFFFF; color: #000000;\" bgcolor=\"#FFFFFF\" valign=\"middle\" align=\"right\">92.1</td></tr>\n",
       "    <tr style=\"border-style: none;\"><th id=\"stub_1_3\" scope=\"row\" class=\"gt_row gt_left gt_stub\" style=\"border-style: none; padding-top: 8px; padding-bottom: 8px; margin: 10px; border-top-style: solid; border-top-width: 1px; border-top-color: #D3D3D3; border-left-style: none; border-left-width: 1px; border-left-color: #D3D3D3; vertical-align: middle; overflow-x: hidden; color: #333333; background-color: #FFFFFF; font-size: 100%; font-weight: initial; text-transform: inherit; border-right-style: solid; border-right-width: 2px; border-right-color: #D3D3D3; padding-left: 5px; padding-right: 5px; text-align: left;\" valign=\"middle\" bgcolor=\"#FFFFFF\" align=\"left\">Height and Weight</th>\n",
       "<td headers=\"stub_1_3 quarter\" class=\"gt_row gt_right\" style=\"border-style: none; padding-top: 8px; padding-bottom: 8px; padding-left: 5px; padding-right: 5px; margin: 10px; border-top-style: solid; border-top-width: 1px; border-top-color: #D3D3D3; border-left-style: none; border-left-width: 1px; border-left-color: #D3D3D3; border-right-style: none; border-right-width: 1px; border-right-color: #D3D3D3; vertical-align: middle; overflow-x: hidden; text-align: right; font-variant-numeric: tabular-nums; background-color: #FFFFFF; color: #000000;\" bgcolor=\"#FFFFFF\" valign=\"middle\" align=\"right\">42.9</td>\n",
       "<td headers=\"stub_1_3 half\" class=\"gt_row gt_right\" style=\"border-style: none; padding-top: 8px; padding-bottom: 8px; padding-left: 5px; padding-right: 5px; margin: 10px; border-top-style: solid; border-top-width: 1px; border-top-color: #D3D3D3; border-left-style: none; border-left-width: 1px; border-left-color: #D3D3D3; border-right-style: none; border-right-width: 1px; border-right-color: #D3D3D3; vertical-align: middle; overflow-x: hidden; text-align: right; font-variant-numeric: tabular-nums; background-color: #E6F4F3; color: #000000;\" bgcolor=\"#E6F4F3\" valign=\"middle\" align=\"right\">51.8</td>\n",
       "<td headers=\"stub_1_3 third\" class=\"gt_row gt_right\" style=\"border-style: none; padding-top: 8px; padding-bottom: 8px; padding-left: 5px; padding-right: 5px; margin: 10px; border-top-style: solid; border-top-width: 1px; border-top-color: #D3D3D3; border-left-style: none; border-left-width: 1px; border-left-color: #D3D3D3; border-right-style: none; border-right-width: 1px; border-right-color: #D3D3D3; vertical-align: middle; overflow-x: hidden; text-align: right; font-variant-numeric: tabular-nums; background-color: #35B0AB; color: #FFFFFF;\" bgcolor=\"#35B0AB\" valign=\"middle\" align=\"right\">78.6</td>\n",
       "<td headers=\"stub_1_3 final_frame\" class=\"gt_row gt_right\" style=\"border-style: none; padding-top: 8px; padding-bottom: 8px; padding-left: 5px; padding-right: 5px; margin: 10px; border-top-style: solid; border-top-width: 1px; border-top-color: #D3D3D3; border-left-style: none; border-left-width: 1px; border-left-color: #D3D3D3; border-right-style: none; border-right-width: 1px; border-right-color: #D3D3D3; vertical-align: middle; overflow-x: hidden; text-align: right; font-variant-numeric: tabular-nums; background-color: #FFFFFF; color: #000000;\" bgcolor=\"#FFFFFF\" valign=\"middle\" align=\"right\">60.7</td>\n",
       "<td headers=\"stub_1_3 anytime_acc\" class=\"gt_row gt_right\" style=\"border-style: none; padding-top: 8px; padding-bottom: 8px; padding-left: 5px; padding-right: 5px; margin: 10px; border-top-style: solid; border-top-width: 1px; border-top-color: #D3D3D3; border-left-style: none; border-left-width: 1px; border-left-color: #D3D3D3; border-right-style: none; border-right-width: 1px; border-right-color: #D3D3D3; vertical-align: middle; overflow-x: hidden; text-align: right; font-variant-numeric: tabular-nums; background-color: #FFFFFF; color: #000000;\" bgcolor=\"#FFFFFF\" valign=\"middle\" align=\"right\">92.9</td></tr>\n",
       "    <tr style=\"border-style: none;\"><th id=\"stub_1_4\" scope=\"row\" class=\"gt_row gt_left gt_stub\" style=\"border-style: none; padding-top: 8px; padding-bottom: 8px; margin: 10px; border-top-style: solid; border-top-width: 1px; border-top-color: #D3D3D3; border-left-style: none; border-left-width: 1px; border-left-color: #D3D3D3; vertical-align: middle; overflow-x: hidden; color: #333333; background-color: #FFFFFF; font-size: 100%; font-weight: initial; text-transform: inherit; border-right-style: solid; border-right-width: 2px; border-right-color: #D3D3D3; padding-left: 5px; padding-right: 5px; text-align: left;\" valign=\"middle\" bgcolor=\"#FFFFFF\" align=\"left\">Height, Weight, and Position</th>\n",
       "<td headers=\"stub_1_4 quarter\" class=\"gt_row gt_right\" style=\"border-style: none; padding-top: 8px; padding-bottom: 8px; padding-left: 5px; padding-right: 5px; margin: 10px; border-top-style: solid; border-top-width: 1px; border-top-color: #D3D3D3; border-left-style: none; border-left-width: 1px; border-left-color: #D3D3D3; border-right-style: none; border-right-width: 1px; border-right-color: #D3D3D3; vertical-align: middle; overflow-x: hidden; text-align: right; font-variant-numeric: tabular-nums; background-color: #35B0AB; color: #FFFFFF;\" bgcolor=\"#35B0AB\" valign=\"middle\" align=\"right\">51.8</td>\n",
       "<td headers=\"stub_1_4 half\" class=\"gt_row gt_right\" style=\"border-style: none; padding-top: 8px; padding-bottom: 8px; padding-left: 5px; padding-right: 5px; margin: 10px; border-top-style: solid; border-top-width: 1px; border-top-color: #D3D3D3; border-left-style: none; border-left-width: 1px; border-left-color: #D3D3D3; border-right-style: none; border-right-width: 1px; border-right-color: #D3D3D3; vertical-align: middle; overflow-x: hidden; text-align: right; font-variant-numeric: tabular-nums; background-color: #35B0AB; color: #FFFFFF;\" bgcolor=\"#35B0AB\" valign=\"middle\" align=\"right\">53.6</td>\n",
       "<td headers=\"stub_1_4 third\" class=\"gt_row gt_right\" style=\"border-style: none; padding-top: 8px; padding-bottom: 8px; padding-left: 5px; padding-right: 5px; margin: 10px; border-top-style: solid; border-top-width: 1px; border-top-color: #D3D3D3; border-left-style: none; border-left-width: 1px; border-left-color: #D3D3D3; border-right-style: none; border-right-width: 1px; border-right-color: #D3D3D3; vertical-align: middle; overflow-x: hidden; text-align: right; font-variant-numeric: tabular-nums; background-color: #FFFFFF; color: #000000;\" bgcolor=\"#FFFFFF\" valign=\"middle\" align=\"right\">67.9</td>\n",
       "<td headers=\"stub_1_4 final_frame\" class=\"gt_row gt_right\" style=\"border-style: none; padding-top: 8px; padding-bottom: 8px; padding-left: 5px; padding-right: 5px; margin: 10px; border-top-style: solid; border-top-width: 1px; border-top-color: #D3D3D3; border-left-style: none; border-left-width: 1px; border-left-color: #D3D3D3; border-right-style: none; border-right-width: 1px; border-right-color: #D3D3D3; vertical-align: middle; overflow-x: hidden; text-align: right; font-variant-numeric: tabular-nums; background-color: #35B0AB; color: #FFFFFF;\" bgcolor=\"#35B0AB\" valign=\"middle\" align=\"right\">73.2</td>\n",
       "<td headers=\"stub_1_4 anytime_acc\" class=\"gt_row gt_right\" style=\"border-style: none; padding-top: 8px; padding-bottom: 8px; padding-left: 5px; padding-right: 5px; margin: 10px; border-top-style: solid; border-top-width: 1px; border-top-color: #D3D3D3; border-left-style: none; border-left-width: 1px; border-left-color: #D3D3D3; border-right-style: none; border-right-width: 1px; border-right-color: #D3D3D3; vertical-align: middle; overflow-x: hidden; text-align: right; font-variant-numeric: tabular-nums; background-color: #35B0AB; color: #FFFFFF;\" bgcolor=\"#35B0AB\" valign=\"middle\" align=\"right\">96.4</td></tr>\n",
       "  </tbody>\n",
       "  \n",
       "  <tfoot class=\"gt_footnotes\" style=\"border-style: none; color: #333333; background-color: #FFFFFF; border-bottom-style: none; border-bottom-width: 2px; border-bottom-color: #D3D3D3; border-left-style: none; border-left-width: 2px; border-left-color: #D3D3D3; border-right-style: none; border-right-width: 2px; border-right-color: #D3D3D3;\" bgcolor=\"#FFFFFF\">\n",
       "    <tr style=\"border-style: none;\">\n",
       "      <td class=\"gt_footnote\" colspan=\"6\" style=\"border-style: none; margin: 0px; font-size: 90%; padding-top: 4px; padding-bottom: 4px; padding-left: 5px; padding-right: 5px;\"> We provide classification accuracy at four standardized points within every play \n",
       "        - at the 1/4 mark, 1/2 mark, 3/4 mark, and final frame of the play. \n",
       "\n",
       "        We also calculate Anytime Acc% - the percentage of plays where the model\n",
       "        identified the correct tackler with the highest probability at any time.</td>\n",
       "    </tr>\n",
       "  </tfoot>\n",
       "</table>\n",
       "</div>"
      ]
     },
     "metadata": {},
     "output_type": "display_data"
    }
   ],
   "source": [
    "\n",
    "model_data <- data.frame(\n",
    "  'Model' = c('Baseline', 'Base Model', 'Height and Weight', 'Height, Weight, and Position'),\n",
    "  'quarter' = c(34.5, 43.8, 42.9, 51.8),\n",
    "  'half' = c(45.2, 50.9, 51.8, 53.6),\n",
    "  'third' = c(64.6, 61.6, 78.6, 67.9),\n",
    "  'final_frame' = c(54.0, 64.3, 60.7, 73.2),\n",
    "  'anytime_acc' = c(91.3, 92.1, 92.9, 96.4)\n",
    ")\n",
    "\n",
    "gt_tbl <- gt(model_data, rowname_col='Model') %>%\n",
    "  gt::tab_header(title = gt::md(\"Model Statistics\"),\n",
    "                 #subtitle = gt::md(\"not now\")\n",
    "                ) %>%\n",
    "  gt::cols_label(Model = \"Model\",\n",
    "                 quarter = \"1/4 mark\",\n",
    "                 half = \"1/2 mark\",\n",
    "                 third = \"3/4 mark\",\n",
    "                 final_frame = \"Final Frame\",\n",
    "                 anytime_acc = \"Anytime Acc%\") %>% \n",
    "  gt::tab_spanner(columns = c(\"quarter\", \"half\", \"third\", \"final_frame\"),\n",
    "                  label = \"Frame-Level Accuracy %\") %>% \n",
    "  gt::tab_spanner(columns = c(\"anytime_acc\"),\n",
    "                  label = \"Play-Level Accuracy %\") %>%\n",
    "  gt::tab_footnote(footnote = \"We provide classification accuracy at four standardized points within every play \n",
    "        - at the 1/4 mark, 1/2 mark, 3/4 mark, and final frame of the play. \\n\n",
    "        We also calculate Anytime Acc% - the percentage of plays where the model\n",
    "        identified the correct tackler with the highest probability at any time.\"\n",
    "        ) %>%\n",
    "  gt::data_color(\n",
    "    #columns = vars(`quarter`, `half`, `third`, `final_frame`, `anytime_acc`),\n",
    "    fn = scales::col_numeric(\n",
    "               palette = c(\"#35b0ab\", \"#ffffff\", \"#ffffff\", \"#ffffff\", \"#ffffff\"),\n",
    "               domain = NULL,\n",
    "               reverse = TRUE)\n",
    "  )\n",
    "\n",
    "display_html(as_raw_html(gt_tbl))\n"
   ]
  },
  {
   "cell_type": "markdown",
   "id": "6fdc0791",
   "metadata": {
    "id": "XqjT5jYy-E-l",
    "papermill": {
     "duration": 0.009509,
     "end_time": "2024-01-07T07:43:17.828691",
     "exception": false,
     "start_time": "2024-01-07T07:43:17.819182",
     "status": "completed"
    },
    "tags": []
   },
   "source": [
    "# Player Rankings"
   ]
  },
  {
   "cell_type": "markdown",
   "id": "206c2466",
   "metadata": {
    "id": "ZKpRJgFE-E-m",
    "papermill": {
     "duration": 0.010796,
     "end_time": "2024-01-07T07:43:17.848694",
     "exception": false,
     "start_time": "2024-01-07T07:43:17.837898",
     "status": "completed"
    },
    "tags": []
   },
   "source": [
    "Using our Tackles Over Expected metric, we can now rank players based on their performance relative to how their peers would perform on average. Below we have rankings for both (cumulative) **Tackles over Expected** and **Tackles over Expected per Snap** *(divided by total number of snaps)*.\n",
    "\n",
    "The notable aspect of our model is that, while properly identifying players we know to be good tacklers, it also **highlights players who we suspect are good tacklers but are overlooked by traditional metrics such as missed tackle percentage**."
   ]
  },
  {
   "cell_type": "code",
   "execution_count": 3,
   "id": "ed51a1bf",
   "metadata": {
    "_kg_hide-input": true,
    "execution": {
     "iopub.execute_input": "2024-01-07T07:43:17.871340Z",
     "iopub.status.busy": "2024-01-07T07:43:17.869985Z",
     "iopub.status.idle": "2024-01-07T07:43:22.855915Z",
     "shell.execute_reply": "2024-01-07T07:43:22.854296Z"
    },
    "papermill": {
     "duration": 5.000605,
     "end_time": "2024-01-07T07:43:22.858993",
     "exception": false,
     "start_time": "2024-01-07T07:43:17.858388",
     "status": "completed"
    },
    "tags": []
   },
   "outputs": [
    {
     "data": {
      "text/html": [
       "<center>\n",
       "<div class=\"prs\">\n",
       "    <div class=\"title\" style=\"text-align:left;\">\n",
       "        <h2 style=\"font-size:24px\"><b>Tackling Metrics</b></h2>\n",
       "        <i>2022 NFL Season: Weeks 1-10</i>\n",
       "    </div>\n",
       "    <iframe src=\"plots/tackle.html\" align=\"center\" width=\"100%\" height=\"500\" frameBorder=\"0\"></iframe>\n",
       "    <span style=\"font-style:italic;font-size:15px\">\n",
       "        While underrepresented by traditional tackling metrics, players like Maxx Crosby and Denzel Perryman <br> \n",
       "        (recently suspended for excessively <a href=\"https://bleacherreport.com/articles/10097293-texans-denzel-perryman-suspended-3-games-for-violating-nfl-player-safety-rules\">violent</a>\n",
       "        hits) score highly in Tackles over Expected</span><br>\n",
       "</div>\n",
       "<center>"
      ]
     },
     "metadata": {},
     "output_type": "display_data"
    }
   ],
   "source": [
    "first_last <- function(name) {\n",
    "  first <- stringr::word(name, 1)\n",
    "  last <- stringr::str_trim(stringr::str_extract(name, \" .*\"))\n",
    "  glue::glue(\"<div style='line-height:11px'><span style ='font-family:Arial;font-weight:bold;color:grey;font-size:10px'>{first}</span></div>\\n    \n",
    "<div style='line-height:9px'><span style='font-weight:bold;font-variant:small-caps;font-size:13px'>{last}</div>\")\n",
    "}\n",
    "\n",
    "t0 <- rankings %>%\n",
    "  left_join(nflfastR::teams_colors_logos, by = c('Team' = 'team_abbr')) %>%\n",
    "  select(c(name, Position, Team, team_logo_espn, Total.Snaps, xT, xT.snap)) %>%\n",
    "  mutate(xT = round(xT, digits = 3),\n",
    "         xT.snap = round(xT.snap, digits = 3),\n",
    "         name = first_last(name))\n",
    "\n",
    "tackle <- reactable(t0,\n",
    "          pagination = TRUE,\n",
    "          highlight = TRUE,\n",
    "          striped = TRUE,\n",
    "          defaultSorted = \"xT\",\n",
    "          defaultSortOrder = \"desc\",\n",
    "          theme = espn(),\n",
    "          defaultPageSize = 10,\n",
    "          defaultColDef = colDef(align = \"center\"),\n",
    "          columns = list(\n",
    "            name = colDef(name = \"name\", maxWidth = 120, style=list(fontFamily = \"Arial\"),\n",
    "                          html = TRUE),\n",
    "            pos = colDef(name = \"Position\", maxWidth = 70, \n",
    "                         style = list(fontWeight = \"bold\", fontFamily = \"Arial\")),\n",
    "            snaps = colDef(name = \"Total Snaps\", maxWidth = 70, \n",
    "                           style = list(fontWeight = \"bold\", fontFamily = \"Arial\")),\n",
    "            team_logo_espn = colDef(name = \"Team\", maxWidth = 70,\n",
    "                                    cell = embed_img(height = 20, width = 20)), \n",
    "            xT = colDef(name = \"xT\", maxWidth = 120, \n",
    "                              cell = color_tiles(t0,colors = viridis::plasma(10, direction = -1),\n",
    "                                                 bold_text = TRUE,\n",
    "                                                 box_shadow = TRUE)),\n",
    "            xT.snap = colDef(name = \"xT/Snap\", maxWidth = 120, \n",
    "                               cell = color_tiles(t0,colors = viridis::plasma(10, direction = -1), \n",
    "                                                  bold_text = TRUE,\n",
    "                                                  box_shadow = TRUE,\n",
    "                                                  number_fmt = scales::number_format(accuracy = 0.01)))\n",
    "            )\n",
    ")\n",
    "\n",
    "f0 <-\"plots/tackle.html\"\n",
    "saveWidget(tackle, file.path(normalizePath(dirname(f0)),basename(f0)))\n",
    "\n",
    "display_html('<center>\n",
    "<div class=\"prs\">\n",
    "    <div class=\"title\" style=\"text-align:left;\">\n",
    "        <h2 style=\"font-size:24px\"><b>Tackling Metrics</b></h2>\n",
    "        <i>2022 NFL Season: Weeks 1-10</i>\n",
    "    </div>\n",
    "    <iframe src=\"plots/tackle.html\" align=\"center\" width=\"100%\" height=\"500\" frameBorder=\"0\"></iframe>\n",
    "    <span style=\"font-style:italic;font-size:15px\">\n",
    "        While underrepresented by traditional tackling metrics, players like Maxx Crosby and Denzel Perryman <br> \n",
    "        (recently suspended for excessively <a href=\"https://bleacherreport.com/articles/10097293-texans-denzel-perryman-suspended-3-games-for-violating-nfl-player-safety-rules\">violent</a>\n",
    "        hits) score highly in Tackles over Expected</span><br>\n",
    "</div>\n",
    "<center>')"
   ]
  },
  {
   "cell_type": "markdown",
   "id": "0412fb35",
   "metadata": {
    "id": "_ZsM3kTo-E-m",
    "papermill": {
     "duration": 0.009838,
     "end_time": "2024-01-07T07:43:22.878545",
     "exception": false,
     "start_time": "2024-01-07T07:43:22.868707",
     "status": "completed"
    },
    "tags": []
   },
   "source": [
    "# Innovation & Utility"
   ]
  },
  {
   "cell_type": "markdown",
   "id": "0f3f3c9e",
   "metadata": {
    "id": "coCdOvNf-E-m",
    "papermill": {
     "duration": 0.009048,
     "end_time": "2024-01-07T07:43:22.896552",
     "exception": false,
     "start_time": "2024-01-07T07:43:22.887504",
     "status": "completed"
    },
    "tags": []
   },
   "source": [
    "We now have a new way to measure how well a player performs at tackling relative to his peers. This model has a unique ability to understand and apply the rules of football to predict tackling because of its deep, attention-based transformer and its novel method of capturing the relationship between player positions via positional embeddings.\n",
    "\n",
    "It's uses extend to player evaluation, acquisition, and gameday strategy. The positional embeddings framework also has many uses independent of tackling, such as any modeling that uses position as an input or potential player similarity metrics."
   ]
  },
  {
   "cell_type": "markdown",
   "id": "b161a1bf",
   "metadata": {
    "papermill": {
     "duration": 0.009017,
     "end_time": "2024-01-07T07:43:22.914606",
     "exception": false,
     "start_time": "2024-01-07T07:43:22.905589",
     "status": "completed"
    },
    "tags": []
   },
   "source": [
    "<a href=\"https://github.com/scottmaran/big_data_bowl_2024\">Code</a>"
   ]
  },
  {
   "cell_type": "markdown",
   "id": "0577ada3",
   "metadata": {
    "id": "wIsRCVxZ-E-m",
    "papermill": {
     "duration": 0.009486,
     "end_time": "2024-01-07T07:43:22.933222",
     "exception": false,
     "start_time": "2024-01-07T07:43:22.923736",
     "status": "completed"
    },
    "tags": []
   },
   "source": [
    "# Appendix\n",
    "\n",
    "(not finished)"
   ]
  },
  {
   "cell_type": "code",
   "execution_count": 4,
   "id": "310deb5b",
   "metadata": {
    "_kg_hide-input": true,
    "execution": {
     "iopub.execute_input": "2024-01-07T07:43:22.954702Z",
     "iopub.status.busy": "2024-01-07T07:43:22.953405Z",
     "iopub.status.idle": "2024-01-07T07:44:34.348068Z",
     "shell.execute_reply": "2024-01-07T07:44:34.345592Z"
    },
    "papermill": {
     "duration": 71.419129,
     "end_time": "2024-01-07T07:44:34.361455",
     "exception": false,
     "start_time": "2024-01-07T07:43:22.942326",
     "status": "completed"
    },
    "tags": []
   },
   "outputs": [
    {
     "data": {
      "text/html": [
       "<center>\n",
       "<div class=\"prs\">\n",
       "    <div class=\"title\" style=\"text-align:left;\">\n",
       "        <h2 style=\"font-size:24px\"><b>Player Similarity Database</b></h2>\n",
       "        <i>Search for a players name and get their Most and Least Similar Comparables!</i>\n",
       "    </div>\n",
       "    <iframe src=\"plots/sim_table.html\" align=\"center\" width=\"100%\" height=\"400\" frameBorder=\"0\"></iframe>\n",
       "</div>\n",
       "<center>"
      ]
     },
     "metadata": {},
     "output_type": "display_data"
    }
   ],
   "source": [
    "sim_matrix <- read.csv(\"../input/xt-rankings/percentile_similarity_full_df.csv\", row.names=1) \n",
    "sim_df <- as.data.frame(sim_matrix) %>% mutate_if(is.numeric, round, digits=3)\n",
    "\n",
    "sim_df_name <- function(name) {\n",
    "  first <- stringr::word(name, 1)\n",
    "  last <- stringr::str_trim(stringr::str_extract(name, \" .*\"))\n",
    "  #glue::glue(\"<div style='line-height:31px'><span style ='font-family:Arial;font-weight:bold;font-variant:small-caps;font-size:30px'>{first}</span></div>     \n",
    "  #<div style='line-height:29px'><span style='font-weight:bold;font-variant:small-caps;font-size:33px'>{last}</div>\")\n",
    "  glue::glue(\"{first} {last}\")\n",
    "}\n",
    "\n",
    "base_name_df <- data.frame(\"name\" = rownames(sim_df)) %>%\n",
    "  left_join(rankings, by = c('name' = 'name')) %>%\n",
    "    select(c(name, Position, Team)) %>%\n",
    "  left_join(nflfastR::teams_colors_logos, by = c('Team' = 'team_abbr')) %>%\n",
    "  select(c(name, Position, Team, team_logo_espn)) %>%\n",
    "  mutate(name = sim_df_name(name))\n",
    "\n",
    "first_names <- c(\"Tom Brady\", \"L'Jarius Sneed\", \"Stefon Diggs\", \"Bobby Wagner\", \"Josh Jacobs\")#, \"Budda Baker\")\n",
    "# Filter the data based on the default search value\n",
    "filtered_data <- base_name_df[order(base_name_df$name %in% first_names,decreasing=TRUE),]\n",
    "sim_df <- sim_df[order(base_name_df$name %in% first_names,decreasing=TRUE),]\n",
    "\n",
    "# Function to format the row details\n",
    "row_details <- function(index) {\n",
    "  player_name <- sim_df_name(rownames(sim_df)[index])\n",
    "  similarities <- sim_df[index, -ncol(sim_df)]\n",
    "  top_similar <- sort(similarities, decreasing = TRUE)[2:6]\n",
    "  least_similar <- sort(similarities, decreasing = FALSE)[1:5]\n",
    "  \n",
    "  top_similar_df <- data.frame('Most' = names(top_similar),\n",
    "                               'Similar' = unname(unlist(top_similar)), \n",
    "                               'Least'= names(least_similar),\n",
    "                               'Similar' = unname(unlist(least_similar)))\n",
    "  \n",
    "  htmltools::div(\n",
    "    style = \"padding: 16px\",\n",
    "    reactable::reactable(top_similar_df, outlined = TRUE)\n",
    "  )\n",
    "}\n",
    "\n",
    "# Create the reactable table\n",
    "player_similarity_table <- reactable(\n",
    "  filtered_data,\n",
    "  pagination = TRUE,\n",
    "  highlight = TRUE,\n",
    "  striped = TRUE,\n",
    "  #theme = espn(),\n",
    "  defaultPageSize = 5,\n",
    "  #height=500,\n",
    "  #width=100,\n",
    "  defaultColDef = colDef(align = \"center\"),\n",
    "  searchable = TRUE,\n",
    "  defaultSortOrder = \"desc\",\n",
    "  details = row_details,\n",
    "  columns = list(\n",
    "            name = colDef(name = \"Name\", style = list(fontFamily = \"Arial\"),\n",
    "                          html = TRUE),\n",
    "            Position = colDef(name = \"Position\", #maxWidth = 120, \n",
    "                         style = list(fontFamily = \"Arial\")),\n",
    "            Team = colDef(name = \"Team\", maxWidth = 70, \n",
    "                         style = list(fontFamily = \"Arial\")),\n",
    "            team_logo_espn = colDef(name = \"Logo\", maxWidth = 200,\n",
    "                                    cell = embed_img(height = 75, width = 75))\n",
    "  )\n",
    ")\n",
    "\n",
    "p0 <-\"plots/sim_table.html\"\n",
    "saveWidget(player_similarity_table, file.path(normalizePath(dirname(p0)),basename(p0)))\n",
    "\n",
    "display_html('<center>\n",
    "<div class=\"prs\">\n",
    "    <div class=\"title\" style=\"text-align:left;\">\n",
    "        <h2 style=\"font-size:24px\"><b>Player Similarity Database</b></h2>\n",
    "        <i>Search for a players name and get their Most and Least Similar Comparables!</i>\n",
    "    </div>\n",
    "    <iframe src=\"plots/sim_table.html\" align=\"center\" width=\"100%\" height=\"400\" frameBorder=\"0\"></iframe>\n",
    "</div>\n",
    "<center>')"
   ]
  },
  {
   "cell_type": "markdown",
   "id": "313e74ae",
   "metadata": {
    "id": "_Fcp-vKl-E-m",
    "papermill": {
     "duration": 0.008893,
     "end_time": "2024-01-07T07:44:34.379131",
     "exception": false,
     "start_time": "2024-01-07T07:44:34.370238",
     "status": "completed"
    },
    "tags": []
   },
   "source": [
    "### Node2Vec - algo"
   ]
  },
  {
   "cell_type": "markdown",
   "id": "b1658612",
   "metadata": {
    "id": "IzOKM0o4-E-m",
    "papermill": {
     "duration": 0.009855,
     "end_time": "2024-01-07T07:44:34.398374",
     "exception": false,
     "start_time": "2024-01-07T07:44:34.388519",
     "status": "completed"
    },
    "tags": []
   },
   "source": [
    "Now we're thinking of our players as vectors that represent their position, where each entry of this vector will be a \"trait\" that the model learns.\n",
    "\n",
    "The algorithm's function is, given a sequence of vectors, update them to maximize the probability of its surroundings given any specific vector. For example, if we had a sequence such as [McCaffrey, Sneed, Aiyuk], we want to maximize:\n",
    "$$$$\n",
    "$$\n",
    "\\begin{aligned}\n",
    "P(McCaffrey|Sneed)*P(McCaffrey|Aiyuk)* P(Sneed|McCaffrey)*P(Sneed|Aiyuk)*P(Aiyuk|McCaffrey)*P(Aiyuk|Sneed)\n",
    "\\end{aligned}\n",
    "$$\n",
    "\n",
    "The inspiration behind this algorithm in the NLP community is that a word can be defined by the surrounding words in the sentence. Translated to sports, we can define a player's position by the other players movements around him.\n",
    "\n",
    "If you're skeptical that this could work, we can walk through a small example. Let's take one potential sequence for each of the 49ers running backs:\n",
    "\n",
    "[McCaffrey (RB) - Sneed (CB) - Aiyuk (WR)]\n",
    "\n",
    "[Mitchell (RB) - Williams (LT) - Jones (DT)]\n",
    "\n",
    "[Jordan Mason (RB) - Williams (LT) - Derrick Nnadi (DT)]\n",
    "\n",
    "Looking at these sequences, we can tell that McCaffrey is more different from Mitchell and Mason than Mitchell and Mason are with one another. Mason and Mitchell have more lineman in their sequences while McCaffrey has more defensive backs. But how does the model learn this?\n",
    "\n",
    "For sequence 1, some of the components we are maximizing are P(McCaffrey|Sneed) and P(McCaffrey|Aiyuk). If we define the likelihood of a player pair as the dot product between tehir vectors, than maximizing it constitutes making them as similar as possible. Thus we want the McCaffrey, Sneed, and Aiyuk vectors to be similar to one another. Since Sneed and Aiyuk aren't in Mitchell's (and Mason's) sequences, we don't get terms like P(Mitchell|Sneed) in their calculations, so Mitchell's vector doesn't need to be similar to Sneed or Aiyuk's.\n",
    "\n",
    "Thus the main steps of the Graph2Vec algorithm are:\n",
    "1) Generate random samples of node sequences\n",
    "\n",
    "2) Use Word2Vec to get embeddings - predict the probability of a context node given the center node\n",
    "\n",
    "How do we generate these sequences tho? We take biased random walks along graph representations of the field; i.e. each node is a player and the edges are the euclidean distances between each player. The idea is that, if we are more likely to walk between players close to one another, we get sequences like the above example with the 49ers running backs"
   ]
  },
  {
   "cell_type": "markdown",
   "id": "d5138429",
   "metadata": {
    "id": "KpMSY0Ql-E-m",
    "papermill": {
     "duration": 0.009318,
     "end_time": "2024-01-07T07:44:34.417620",
     "exception": false,
     "start_time": "2024-01-07T07:44:34.408302",
     "status": "completed"
    },
    "tags": []
   },
   "source": [
    "### Expand on clustered visualized embeddings\n",
    "\n",
    "We looked at which positions ended up in which clusters and found patterns that distinguished between different types of positions. This indicates the algorithm is capturing some aspects of position."
   ]
  },
  {
   "cell_type": "markdown",
   "id": "73d5e545",
   "metadata": {
    "papermill": {
     "duration": 0.010636,
     "end_time": "2024-01-07T07:44:34.437517",
     "exception": false,
     "start_time": "2024-01-07T07:44:34.426881",
     "status": "completed"
    },
    "tags": []
   },
   "source": [
    "<center>\n",
    "<img src=\"https://github.com/scottmaran/big_data_bowl_2024/blob/main/statistics/report_data/images/embeddings-32-dim-cluster-pos-dis.png?raw=true\" width=100%>\n",
    "</center>"
   ]
  },
  {
   "cell_type": "markdown",
   "id": "d8c3d4f7",
   "metadata": {
    "id": "_88K3SQe-E-m",
    "papermill": {
     "duration": 0.009349,
     "end_time": "2024-01-07T07:44:34.456267",
     "exception": false,
     "start_time": "2024-01-07T07:44:34.446918",
     "status": "completed"
    },
    "tags": []
   },
   "source": [
    "### Pos Embeddings - Dimension size\n",
    "\n",
    "We compiled position embeddings of dimension sizes 3,9, and 32 and compared the results.\n",
    "\n",
    "Intra-Position Similarity for 3-Dim Embeddings (e.g. WR-WR, CB-CB)\n",
    "\n",
    "| WR       | CB       | SS       | FS       | ILB      | RB       | T        | OLB      | C        | TE       | DT       | G        | QB       | NT       | DE       | FB       | MLB      | DB   | LS   |\n",
    "|----------|----------|----------|----------|----------|----------|----------|----------|----------|----------|----------|----------|----------|----------|----------|----------|----------|------|------|\n",
    "| 0.522215 | 0.359815 | 0.5418   | 0.436683 | 0.927439 | 0.876778 | 0.967161 | 0.989147 | 0.966166 | 0.978499 | 0.992412 | 0.993798 |\n",
    "\n",
    "\n",
    "The 3-dimensional vectors capture a lot of information but miss out on a few key aspects. We can see that the intra-positional similarity for WR, CB, SS, and FS are all relatively low (below 0.6), which isn't the case in the higher dimensional embeddings. But for all other positions, the similarities are high (above 0.9).\n",
    "\n",
    "The one advantage to the lower dimensional embeddings is that they are more discriminative than their higher-dimesional counterparts. For example, the position similarity between G and CB under the different embeddings: \\\n",
    "3-dim: 0.033 \\\n",
    "9-dim: 0.642 \\\n",
    "32-dim: 0.535\n"
   ]
  },
  {
   "cell_type": "markdown",
   "id": "2d423c2d",
   "metadata": {
    "papermill": {
     "duration": 0.00962,
     "end_time": "2024-01-07T07:44:34.475166",
     "exception": false,
     "start_time": "2024-01-07T07:44:34.465546",
     "status": "completed"
    },
    "tags": []
   },
   "source": [
    "#### Player Similarity\n",
    "\n",
    "Relationship between TE and QB"
   ]
  },
  {
   "cell_type": "markdown",
   "id": "65520132",
   "metadata": {
    "id": "Yeze6lIw-E-m",
    "papermill": {
     "duration": 0.009389,
     "end_time": "2024-01-07T07:44:34.493972",
     "exception": false,
     "start_time": "2024-01-07T07:44:34.484583",
     "status": "completed"
    },
    "tags": []
   },
   "source": [
    "### Why not 100% for baseline at the end?\n",
    "\n",
    "The careful reader may notice an interesting phenomenom. If our baseline predicts the tackler as the closest person to the ball, shouldn't it be 100% accurate at the last frame of the play? This should be the frame where the tackler is making contact with the ball carrier; i.e. zero distance!\n",
    "\n",
    "The baseline model is only correct at the final frame on 54% of all the plays. We visually inspected 20 random plays and confirmed it was only correct on 45% of the plays.\n",
    "\n",
    "While initally strange, this should not be surprising when we consider the difference in precision of our data (every 1/10 of a second) and the imprecise nature of defining when *exactly* a \"tackle\" takes place. Many other players usually surround the ball carrier and are also moving towards trying to takcle him."
   ]
  },
  {
   "cell_type": "markdown",
   "id": "11bd5eba",
   "metadata": {
    "papermill": {
     "duration": 0.009439,
     "end_time": "2024-01-07T07:44:34.512763",
     "exception": false,
     "start_time": "2024-01-07T07:44:34.503324",
     "status": "completed"
    },
    "tags": []
   },
   "source": [
    "### model stats\n",
    "\n",
    "Provide classification accuracy at relative as opposed to at fixed times (e.g. 3 seconds in) to account for plays of different. For example, a prediction at two seconds in is very different for a play that's two seconds long versus 12 seconds."
   ]
  },
  {
   "cell_type": "markdown",
   "id": "7f9714e1",
   "metadata": {
    "id": "FaCUaZurhiXR",
    "papermill": {
     "duration": 0.009294,
     "end_time": "2024-01-07T07:44:34.531440",
     "exception": false,
     "start_time": "2024-01-07T07:44:34.522146",
     "status": "completed"
    },
    "tags": []
   },
   "source": [
    "### Uses\n",
    "\n",
    "This extends to:\n",
    "- player evaluation - if a team wants to understand how good their players are at tackling\n",
    "- player acquisition - if a team wants to understand how good available players are at tackling\n",
    "- gameday strategy - if a team wants to understand how good their opponents are at tackling\n",
    "\n",
    "The positional embeddings framework also has many uses independent of tackling:\n",
    "\n",
    "- Model building - for any model that uses positions as input, position embeddings theoretically should provide a better alternative\n",
    "- Player similarity metrics - similarly to how we look at CMC and how he compared to different players across the league, we can do this for any player. If a team needs to replace a player, they can look at how similar potential replacements' positional embeddings are to the departing player. The hypothesis is that players with similar positional embeddings play a similar style, and it might be easier for similar players to slide into a different teams strategy."
   ]
  },
  {
   "cell_type": "code",
   "execution_count": null,
   "id": "cf726212",
   "metadata": {
    "id": "5vJm51oj-E-n",
    "papermill": {
     "duration": 0.009173,
     "end_time": "2024-01-07T07:44:34.550401",
     "exception": false,
     "start_time": "2024-01-07T07:44:34.541228",
     "status": "completed"
    },
    "tags": []
   },
   "outputs": [],
   "source": []
  }
 ],
 "metadata": {
  "kaggle": {
   "accelerator": "none",
   "dataSources": [
    {
     "databundleVersionId": 6654553,
     "sourceId": 60305,
     "sourceType": "competition"
    },
    {
     "datasetId": 4260948,
     "sourceId": 7339501,
     "sourceType": "datasetVersion"
    }
   ],
   "dockerImageVersionId": 30618,
   "isGpuEnabled": false,
   "isInternetEnabled": true,
   "language": "r",
   "sourceType": "notebook"
  },
  "kernelspec": {
   "display_name": "R",
   "language": "R",
   "name": "ir"
  },
  "language_info": {
   "codemirror_mode": "r",
   "file_extension": ".r",
   "mimetype": "text/x-r-source",
   "name": "R",
   "pygments_lexer": "r",
   "version": "4.0.5"
  },
  "papermill": {
   "default_parameters": {},
   "duration": 126.33315,
   "end_time": "2024-01-07T07:44:34.681265",
   "environment_variables": {},
   "exception": null,
   "input_path": "__notebook__.ipynb",
   "output_path": "__notebook__.ipynb",
   "parameters": {},
   "start_time": "2024-01-07T07:42:28.348115",
   "version": "2.5.0"
  }
 },
 "nbformat": 4,
 "nbformat_minor": 5
}
